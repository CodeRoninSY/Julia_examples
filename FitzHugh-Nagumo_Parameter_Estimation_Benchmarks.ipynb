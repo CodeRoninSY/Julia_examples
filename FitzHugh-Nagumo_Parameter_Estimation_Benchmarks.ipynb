{
 "cells": [
  {
   "cell_type": "markdown",
   "metadata": {},
   "source": [
    "# FitzHugh-Nagumo Parameter Estimation Benchmarks\n",
    "https://benchmarks.juliadiffeq.org/html/ParameterEstimation/FitzHughNagumoParameterEstimation.html\n",
    "\n",
    "## Parameter estimation of FitzHugh-Nagumo model using optimisation methods"
   ]
  },
  {
   "cell_type": "code",
   "execution_count": 1,
   "metadata": {},
   "outputs": [
    {
     "data": {
      "text/plain": [
       "Plots.PyPlotBackend()"
      ]
     },
     "execution_count": 1,
     "metadata": {},
     "output_type": "execute_result"
    }
   ],
   "source": [
    "using ParameterizedFunctions, OrdinaryDiffEq, DiffEqParamEstim\n",
    "using BlackBoxOptim, NLopt, Plots\n",
    "# gr(fmt=:png)\n",
    "pyplot(fmt=:png)"
   ]
  },
  {
   "cell_type": "code",
   "execution_count": 2,
   "metadata": {},
   "outputs": [
    {
     "data": {
      "text/plain": [
       "4-element Array{Float64,1}:\n",
       " 2.5\n",
       " 2.5\n",
       " 2.5\n",
       " 2.5"
      ]
     },
     "execution_count": 2,
     "metadata": {},
     "output_type": "execute_result"
    }
   ],
   "source": [
    "loc_bounds = Tuple{Float64,Float64}[(0, 1), (0, 1), (0, 1), (0, 1)]\n",
    "glo_bounds = Tuple{Float64,Float64}[(0, 5), (0, 5), (0, 5), (0, 5)]\n",
    "loc_init = [0.5,0.5,0.5,0.5]\n",
    "glo_init = [2.5,2.5,2.5,2.5]"
   ]
  },
  {
   "cell_type": "code",
   "execution_count": 3,
   "metadata": {},
   "outputs": [
    {
     "data": {
      "text/plain": [
       "(::FitzhughNagumo{var\"#7#11\",var\"#8#12\",var\"#9#13\",Nothing,Nothing,var\"#10#14\",Expr,Expr}) (generic function with 2 methods)"
      ]
     },
     "execution_count": 3,
     "metadata": {},
     "output_type": "execute_result"
    }
   ],
   "source": [
    "fitz = @ode_def FitzhughNagumo begin\n",
    "  dv = v - v^3/3 -w + l\n",
    "  dw = τinv*(v +  a - b*w)\n",
    "end a b τinv l"
   ]
  },
  {
   "cell_type": "code",
   "execution_count": 16,
   "metadata": {},
   "outputs": [
    {
     "data": {
      "text/plain": [
       "\u001b[36mODEProblem\u001b[0m with uType \u001b[36mArray{Float64,1}\u001b[0m and tType \u001b[36mFloat64\u001b[0m. In-place: \u001b[36mtrue\u001b[0m\n",
       "timespan: (0.0, 3.0)\n",
       "u0: [1.0, 1.0]"
      ]
     },
     "execution_count": 16,
     "metadata": {},
     "output_type": "execute_result"
    }
   ],
   "source": [
    "p = [0.7,0.8,0.08,0.5]              # Parameters used to construct the dataset\n",
    "r0 = [1.0; 1.0]                     # initial value\n",
    "tspan = (0.0, 30.0)                 # sample of 3000 observations over the (0,30) timespan\n",
    "prob = ODEProblem(fitz, r0, tspan,p)\n",
    "tspan2 = (0.0, 3.0)                 # sample of 300 observations with a timestep of 0.01\n",
    "prob_short = ODEProblem(fitz, r0, tspan2,p)"
   ]
  },
  {
   "cell_type": "code",
   "execution_count": 17,
   "metadata": {},
   "outputs": [
    {
     "data": {
      "text/plain": [
       "3001-element Array{Float64,1}:\n",
       "  0.0 \n",
       "  0.01\n",
       "  0.02\n",
       "  0.03\n",
       "  0.04\n",
       "  0.05\n",
       "  0.06\n",
       "  0.07\n",
       "  0.08\n",
       "  0.09\n",
       "  0.1 \n",
       "  0.11\n",
       "  0.12\n",
       "  ⋮   \n",
       " 29.89\n",
       " 29.9 \n",
       " 29.91\n",
       " 29.92\n",
       " 29.93\n",
       " 29.94\n",
       " 29.95\n",
       " 29.96\n",
       " 29.97\n",
       " 29.98\n",
       " 29.99\n",
       " 30.0 "
      ]
     },
     "execution_count": 17,
     "metadata": {},
     "output_type": "execute_result"
    }
   ],
   "source": [
    "dt = 30.0/3000\n",
    "tf = 30.0\n",
    "tinterval = 0:dt:tf\n",
    "t  = collect(tinterval)"
   ]
  },
  {
   "cell_type": "code",
   "execution_count": 18,
   "metadata": {},
   "outputs": [
    {
     "data": {
      "text/plain": [
       "301-element Array{Float64,1}:\n",
       " 0.0 \n",
       " 0.01\n",
       " 0.02\n",
       " 0.03\n",
       " 0.04\n",
       " 0.05\n",
       " 0.06\n",
       " 0.07\n",
       " 0.08\n",
       " 0.09\n",
       " 0.1 \n",
       " 0.11\n",
       " 0.12\n",
       " ⋮   \n",
       " 2.89\n",
       " 2.9 \n",
       " 2.91\n",
       " 2.92\n",
       " 2.93\n",
       " 2.94\n",
       " 2.95\n",
       " 2.96\n",
       " 2.97\n",
       " 2.98\n",
       " 2.99\n",
       " 3.0 "
      ]
     },
     "execution_count": 18,
     "metadata": {},
     "output_type": "execute_result"
    }
   ],
   "source": [
    "h = 0.01\n",
    "M = 300\n",
    "tstart = 0.0\n",
    "tstop = tstart + M * h\n",
    "tinterval_short = 0:h:tstop\n",
    "t_short = collect(tinterval_short)"
   ]
  },
  {
   "cell_type": "code",
   "execution_count": 19,
   "metadata": {},
   "outputs": [
    {
     "data": {
      "text/plain": [
       "2×3001 Array{Float64,2}:\n",
       " 1.0  1.00166  1.00332  1.00497  1.00661  …  -0.65759   -0.655923  -0.654248\n",
       " 1.0  1.00072  1.00144  1.00216  1.00289     -0.229157  -0.228976  -0.228793"
      ]
     },
     "execution_count": 19,
     "metadata": {},
     "output_type": "execute_result"
    }
   ],
   "source": [
    "#Generate Data\n",
    "data_sol_short = solve(prob_short,Vern9(),saveat=t_short,\n",
    "    reltol=1e-9,abstol=1e-9)\n",
    "data_short = convert(Array, data_sol_short) \n",
    "# This operation produces column major dataset obs as columns, equations as rows\n",
    "data_sol = solve(prob,Vern9(),saveat=t,reltol=1e-9,abstol=1e-9)\n",
    "data = convert(Array, data_sol)"
   ]
  },
  {
   "cell_type": "markdown",
   "metadata": {},
   "source": [
    "## Plot of the solution\n",
    "### Short Solution"
   ]
  },
  {
   "cell_type": "code",
   "execution_count": 20,
   "metadata": {},
   "outputs": [
    {
     "data": {
      "image/png": "[encoded data removed]"
     },
     "execution_count": 20,
     "metadata": {},
     "output_type": "execute_result"
    }
   ],
   "source": [
    "plot(data_sol_short)"
   ]
  },
  {
   "cell_type": "markdown",
   "metadata": {},
   "source": [
    "## Longer Solution"
   ]
  },
  {
   "cell_type": "code",
   "execution_count": 21,
   "metadata": {},
   "outputs": [
    {
     "data": {
      "image/png": "[encoded data removed]"
     },
     "execution_count": 21,
     "metadata": {},
     "output_type": "execute_result"
    }
   ],
   "source": [
    "plot(data_sol)"
   ]
  },
  {
   "cell_type": "markdown",
   "metadata": {},
   "source": [
    "# Local Solution from the short data set"
   ]
  },
  {
   "cell_type": "code",
   "execution_count": 22,
   "metadata": {},
   "outputs": [
    {
     "name": "stdout",
     "output_type": "stream",
     "text": [
      "Starting optimization with optimizer DiffEvoOpt{FitPopulation{Float64},RadiusLimitedSelector,BlackBoxOptim.AdaptiveDiffEvoRandBin{3},RandomBound{ContinuousRectSearchSpace}}\n",
      "0.00 secs, 0 evals, 0 steps\n",
      "0.50 secs, 2161 evals, 2008 steps, improv/step: 0.217 (last = 0.2171), fitness=0.050706362\n",
      "1.00 secs, 4823 evals, 4670 steps, improv/step: 0.157 (last = 0.1119), fitness=0.000291958\n",
      "\n",
      "Optimization stopped after 7001 steps and 1.39 seconds\n",
      "Termination reason: Max number of steps (7000) reached\n",
      "Steps per second = 5026.68\n",
      "Function evals per second = 5135.10\n",
      "Improvements/step = 0.14743\n",
      "Total function evaluations = 7152\n",
      "\n",
      "\n",
      "Best candidate found: [0.250243, 0.712843, 0.128416, 0.499714]\n",
      "\n",
      "Fitness: 0.000088577\n",
      "\n"
     ]
    },
    {
     "data": {
      "text/plain": [
       "BlackBoxOptim.OptimizationResults(\"adaptive_de_rand_1_bin_radiuslimited\", \"Max number of steps (7000) reached\", 7001, 1.5811121045512e9, 1.3927671909332275, DictChain{Symbol,Any}[DictChain{Symbol,Any}[Dict{Symbol,Any}(:RngSeed => 787768,:SearchRange => Tuple{Float64,Float64}[(0.0, 5.0), (0.0, 5.0), (0.0, 5.0), (0.0, 5.0)],:MaxSteps => 7000),Dict{Symbol,Any}()],Dict{Symbol,Any}(:FitnessScheme => ScalarFitnessScheme{true}(),:NumDimensions => :NotSpecified,:PopulationSize => 50,:MaxTime => 0.0,:SearchRange => (-1.0, 1.0),:Method => :adaptive_de_rand_1_bin_radiuslimited,:MaxNumStepsWithoutFuncEvals => 100,:RngSeed => 1234,:MaxFuncEvals => 0,:SaveTrace => false…)], 7152, ScalarFitnessScheme{true}(), BlackBoxOptim.TopListArchiveOutput{Float64,Array{Float64,1}}(8.857718863086664e-5, [0.2502427165351268, 0.7128434380753957, 0.12841566826402348, 0.4997143621416325]), BlackBoxOptim.PopulationOptimizerOutput{FitPopulation{Float64}}(FitPopulation{Float64}([0.24814987046865816 0.22681954070348018 … 0.2502427165351268 0.22484861755819735; 0.7621739786214938 0.7593736636294321 … 0.7128434380753957 0.7343079987609522; 0.14246936809773633 0.14706522418408308 … 0.12841566826402348 0.1399787720658716; 0.5006197650113483 0.50017303386919 … 0.4997143621416325 0.5000338190171014], NaN, [0.0002841600209171304, 0.00018878283294256792, 0.0002745979768592653, 0.00013752244455209146, 0.0003301060924492028, 0.0005859269999223656, 0.00014039691007847538, 0.00021877514009954386, 0.0007052846498031398, 0.0003499827034403519  …  0.00011652018228996257, 0.00011021634629622465, 0.00010368793024117131, 0.00011625433886447892, 0.00012856308578291714, 0.00013289326048383522, 0.000155960971147153, 0.00013817662063250033, 8.857718863086664e-5, 0.00016033823926338132], 0, BlackBoxOptim.Candidate{Float64}[BlackBoxOptim.Candidate{Float64}([0.24814987046865816, 0.7621739786214938, 0.14246936809773633, 0.5006197650113483], 1, 0.0002841600209171304, BlackBoxOptim.AdaptiveDiffEvoRandBin{3}(BlackBoxOptim.AdaptiveDiffEvoParameters(BlackBoxOptim.BimodalCauchy(Distributions.Cauchy{Float64}(μ=0.65, σ=0.1), Distributions.Cauchy{Float64}(μ=1.0, σ=0.1), 0.5, false, true), BlackBoxOptim.BimodalCauchy(Distributions.Cauchy{Float64}(μ=0.1, σ=0.1), Distributions.Cauchy{Float64}(μ=0.95, σ=0.1), 0.5, false, true), [0.7284509793041454, 0.718184525112969, 0.9561002845828221, 0.7704102520522567, 0.631560192866539, 0.21175359630902008, 0.670033940737832, 1.0, 1.0, 0.9592497149648262  …  0.639713877030096, 0.759291212264359, 0.6584681670554018, 0.8026017686759985, 0.6878563401135157, 0.751333179488773, 1.0, 1.0, 0.9379519467195989, 1.0], [0.17431111550138134, 0.9276404342678244, 0.15572060469151852, 0.958385352774312, 0.12746673784075008, 0.6629290112283965, 1.0, 0.30361705784634685, 0.8191198176784417, 0.9022932448214621  …  0.9362770935427073, 1.0, 0.9718464024537441, 0.8778419336289455, 1.0, 0.18583748590785393, 0.03175363525464757, 0.012771752370523887, 1.0, 0.2932310279553321])), 0), BlackBoxOptim.Candidate{Float64}([0.28887273767425137, 0.7621739786214938, 0.14246936809773633, 0.5006197650113483], 1, 0.03916690697686265, BlackBoxOptim.AdaptiveDiffEvoRandBin{3}(BlackBoxOptim.AdaptiveDiffEvoParameters(BlackBoxOptim.BimodalCauchy(Distributions.Cauchy{Float64}(μ=0.65, σ=0.1), Distributions.Cauchy{Float64}(μ=1.0, σ=0.1), 0.5, false, true), BlackBoxOptim.BimodalCauchy(Distributions.Cauchy{Float64}(μ=0.1, σ=0.1), Distributions.Cauchy{Float64}(μ=0.95, σ=0.1), 0.5, false, true), [0.7284509793041454, 0.718184525112969, 0.9561002845828221, 0.7704102520522567, 0.631560192866539, 0.21175359630902008, 0.670033940737832, 1.0, 1.0, 0.9592497149648262  …  0.639713877030096, 0.759291212264359, 0.6584681670554018, 0.8026017686759985, 0.6878563401135157, 0.751333179488773, 1.0, 1.0, 0.9379519467195989, 1.0], [0.17431111550138134, 0.9276404342678244, 0.15572060469151852, 0.958385352774312, 0.12746673784075008, 0.6629290112283965, 1.0, 0.30361705784634685, 0.8191198176784417, 0.9022932448214621  …  0.9362770935427073, 1.0, 0.9718464024537441, 0.8778419336289455, 1.0, 0.18583748590785393, 0.03175363525464757, 0.012771752370523887, 1.0, 0.2932310279553321])), 0)])))"
      ]
     },
     "execution_count": 22,
     "metadata": {},
     "output_type": "execute_result"
    }
   ],
   "source": [
    "obj_short = build_loss_objective(prob_short,Tsit5(),\n",
    "    L2Loss(t_short,data_short),tstops=t_short)\n",
    "res1 = bboptimize(obj_short;SearchRange = glo_bounds, MaxSteps = 7e3)"
   ]
  },
  {
   "cell_type": "code",
   "execution_count": 23,
   "metadata": {},
   "outputs": [
    {
     "name": "stdout",
     "output_type": "stream",
     "text": [
      "Starting optimization with optimizer DiffEvoOpt{FitPopulation{Float64},RadiusLimitedSelector,BlackBoxOptim.AdaptiveDiffEvoRandBin{3},RandomBound{ContinuousRectSearchSpace}}\n",
      "0.00 secs, 0 evals, 0 steps\n",
      "0.50 secs, 2660 evals, 2545 steps, improv/step: 0.211 (last = 0.2114), fitness=0.008357576\n",
      "1.00 secs, 5545 evals, 5430 steps, improv/step: 0.153 (last = 0.1023), fitness=0.000968861\n",
      "\n",
      "Optimization stopped after 7001 steps and 1.27 seconds\n",
      "Termination reason: Max number of steps (7000) reached\n",
      "Steps per second = 5520.25\n",
      "Function evals per second = 5610.93\n",
      "Improvements/step = 0.14029\n",
      "Total function evaluations = 7116\n",
      "\n",
      "\n",
      "Best candidate found: [0.304838, 0.727392, 0.120542, 0.499713]\n",
      "\n",
      "Fitness: 0.000067405\n",
      "\n"
     ]
    },
    {
     "data": {
      "text/plain": [
       "BlackBoxOptim.OptimizationResults(\"adaptive_de_rand_1_bin_radiuslimited\", \"Max number of steps (7000) reached\", 7001, 1.581112625297197e9, 1.2682387828826904, DictChain{Symbol,Any}[DictChain{Symbol,Any}[Dict{Symbol,Any}(:RngSeed => 72827,:SearchRange => Tuple{Float64,Float64}[(0.0, 5.0), (0.0, 5.0), (0.0, 5.0), (0.0, 5.0)],:MaxSteps => 7000),Dict{Symbol,Any}()],Dict{Symbol,Any}(:FitnessScheme => ScalarFitnessScheme{true}(),:NumDimensions => :NotSpecified,:PopulationSize => 50,:MaxTime => 0.0,:SearchRange => (-1.0, 1.0),:Method => :adaptive_de_rand_1_bin_radiuslimited,:MaxNumStepsWithoutFuncEvals => 100,:RngSeed => 1234,:MaxFuncEvals => 0,:SaveTrace => false…)], 7116, ScalarFitnessScheme{true}(), BlackBoxOptim.TopListArchiveOutput{Float64,Array{Float64,1}}(6.74047448477518e-5, [0.3048383377250155, 0.7273916455547363, 0.12054168569271584, 0.4997126493396949]), BlackBoxOptim.PopulationOptimizerOutput{FitPopulation{Float64}}(FitPopulation{Float64}([0.026686355121163186 0.2251511766989701 … 1.3308584517198265 4.358949834696935; 0.691010689458351 0.8806197763399597 … 1.6249094207517907 3.4131520885662074; 0.19344703627578688 0.20124527792573227 … 0.1121037068254758 0.041339247161322416; 0.49567961937011484 0.4994140003096615 … 0.5028002124136504 0.4976135090326769], NaN, [0.0054186403292017975, 0.0029935524324531384, 0.009078762640607328, 0.006038117496488408, 0.0030415077160018344, 0.00012632544113005617, 0.0051670156680624505, 0.002597746069270854, 0.005287394612462942, 0.008215719516888877  …  0.00013276925053588973, 0.0003282112712420952, 0.0002774557297078285, 0.00040820612652185646, 0.0003763280266940217, 0.0029545405464144114, 0.013025905173832801, 0.025986649144907874, 0.0043373498942652295, 0.013330168791563967], 0, BlackBoxOptim.Candidate{Float64}[BlackBoxOptim.Candidate{Float64}([4.358949834696935, 3.4131520885662074, 0.041339247161322416, 0.4976135090326769], 50, 0.013330168791563967, BlackBoxOptim.AdaptiveDiffEvoRandBin{3}(BlackBoxOptim.AdaptiveDiffEvoParameters(BlackBoxOptim.BimodalCauchy(Distributions.Cauchy{Float64}(μ=0.65, σ=0.1), Distributions.Cauchy{Float64}(μ=1.0, σ=0.1), 0.5, false, true), BlackBoxOptim.BimodalCauchy(Distributions.Cauchy{Float64}(μ=0.1, σ=0.1), Distributions.Cauchy{Float64}(μ=0.95, σ=0.1), 0.5, false, true), [0.5626512438590071, 0.8744169486249871, 0.6298510986623833, 0.7110750954334232, 0.9188891131809324, 1.0, 0.9889889454572455, 1.0, 0.6326674114871964, 0.9885747722244744  …  0.7194179523401454, 1.0, 1.0, 0.6182611427892679, 0.7031346638394289, 1.0, 0.6566294996657284, 0.9148413632816925, 0.6565324194014137, 0.727321325092045], [0.15192326849596932, 0.08373574236848783, 0.8848407294031723, 0.9816755815490529, 1.0, 0.16516914691984264, 0.8883525082783391, 0.8824560893244275, 0.01939731791418657, 1.0  …  0.005222500434068397, 1.0, 0.1688569623914623, 0.02025135263206594, 0.9244023851354435, 1.0, 0.08466498555562248, 0.9585362607467124, 0.1303054626083744, 1.0])), 0), BlackBoxOptim.Candidate{Float64}([3.9216922311953852, 3.3720791695193033, 0.22793526997420235, 0.5063582401917609], 50, 26.371156332101606, BlackBoxOptim.AdaptiveDiffEvoRandBin{3}(BlackBoxOptim.AdaptiveDiffEvoParameters(BlackBoxOptim.BimodalCauchy(Distributions.Cauchy{Float64}(μ=0.65, σ=0.1), Distributions.Cauchy{Float64}(μ=1.0, σ=0.1), 0.5, false, true), BlackBoxOptim.BimodalCauchy(Distributions.Cauchy{Float64}(μ=0.1, σ=0.1), Distributions.Cauchy{Float64}(μ=0.95, σ=0.1), 0.5, false, true), [0.5626512438590071, 0.8744169486249871, 0.6298510986623833, 0.7110750954334232, 0.9188891131809324, 1.0, 0.9889889454572455, 1.0, 0.6326674114871964, 0.9885747722244744  …  0.7194179523401454, 1.0, 1.0, 0.6182611427892679, 0.7031346638394289, 1.0, 0.6566294996657284, 0.9148413632816925, 0.6565324194014137, 0.727321325092045], [0.15192326849596932, 0.08373574236848783, 0.8848407294031723, 0.9816755815490529, 1.0, 0.16516914691984264, 0.8883525082783391, 0.8824560893244275, 0.01939731791418657, 1.0  …  0.005222500434068397, 1.0, 0.1688569623914623, 0.02025135263206594, 0.9244023851354435, 1.0, 0.08466498555562248, 0.9585362607467124, 0.1303054626083744, 1.0])), 0)])))"
      ]
     },
     "execution_count": 23,
     "metadata": {},
     "output_type": "execute_result"
    }
   ],
   "source": [
    "# Lower tolerance could lead to smaller fitness (more accuracy)\n",
    "obj_short = build_loss_objective(prob_short,Tsit5(),\n",
    "    L2Loss(t_short,data_short),tstops=t_short,reltol=1e-9)\n",
    "res1 = bboptimize(obj_short;SearchRange = glo_bounds, MaxSteps = 7e3)"
   ]
  },
  {
   "cell_type": "code",
   "execution_count": 24,
   "metadata": {},
   "outputs": [
    {
     "name": "stdout",
     "output_type": "stream",
     "text": [
      "Starting optimization with optimizer DiffEvoOpt{FitPopulation{Float64},RadiusLimitedSelector,BlackBoxOptim.AdaptiveDiffEvoRandBin{3},RandomBound{ContinuousRectSearchSpace}}\n",
      "0.00 secs, 0 evals, 0 steps\n",
      "0.50 secs, 1940 evals, 1830 steps, improv/step: 0.220 (last = 0.2202), fitness=0.079755789\n",
      "1.00 secs, 3971 evals, 3861 steps, improv/step: 0.162 (last = 0.1088), fitness=0.003854692\n",
      "1.50 secs, 5980 evals, 5870 steps, improv/step: 0.147 (last = 0.1180), fitness=0.001080289\n",
      "\n",
      "Optimization stopped after 7001 steps and 1.78 seconds\n",
      "Termination reason: Max number of steps (7000) reached\n",
      "Steps per second = 3935.39\n",
      "Function evals per second = 3997.22\n",
      "Improvements/step = 0.14129\n",
      "Total function evaluations = 7111\n",
      "\n",
      "\n",
      "Best candidate found: [0.298384, 0.750388, 0.127442, 0.500594]\n",
      "\n",
      "Fitness: 0.000237816\n",
      "\n"
     ]
    },
    {
     "data": {
      "text/plain": [
       "BlackBoxOptim.OptimizationResults(\"adaptive_de_rand_1_bin_radiuslimited\", \"Max number of steps (7000) reached\", 7001, 1.581112849855603e9, 1.778986930847168, DictChain{Symbol,Any}[DictChain{Symbol,Any}[Dict{Symbol,Any}(:RngSeed => 426703,:SearchRange => Tuple{Float64,Float64}[(0.0, 5.0), (0.0, 5.0), (0.0, 5.0), (0.0, 5.0)],:MaxSteps => 7000),Dict{Symbol,Any}()],Dict{Symbol,Any}(:FitnessScheme => ScalarFitnessScheme{true}(),:NumDimensions => :NotSpecified,:PopulationSize => 50,:MaxTime => 0.0,:SearchRange => (-1.0, 1.0),:Method => :adaptive_de_rand_1_bin_radiuslimited,:MaxNumStepsWithoutFuncEvals => 100,:RngSeed => 1234,:MaxFuncEvals => 0,:SaveTrace => false…)], 7111, ScalarFitnessScheme{true}(), BlackBoxOptim.TopListArchiveOutput{Float64,Array{Float64,1}}(0.000237816421711772, [0.29838446292652754, 0.7503876015497299, 0.1274418025238577, 0.5005935827701767]), BlackBoxOptim.PopulationOptimizerOutput{FitPopulation{Float64}}(FitPopulation{Float64}([0.10637470238878956 0.0015609081953889643 … 0.13224664016059035 0.01786443880687498; 0.7988988500918803 0.7171112200907273 … 0.8200684594306491 0.7319333700535028; 0.21482160565605235 0.2254461068233026 … 0.2150542667182994 0.22567876788554966; 0.4998147949644674 0.49992673443590113 … 0.4994907820716038 0.49960272154303753], NaN, [0.0009626187641774955, 0.0008489399215612087, 0.0008291591918325864, 0.0008540626908268695, 0.0008103116042747924, 0.0008654327643392094, 0.0006682721925961682, 0.0009009251609976413, 0.0008538275778549581, 0.0009835554176485135  …  0.0017784079232434102, 0.0018332734854368262, 0.0012562159107818189, 0.0010509967956418734, 0.0008769336800294061, 0.001479508032471181, 0.001154464383627142, 0.0008528362214812889, 0.0014483223466602196, 0.0007922958264663929], 0, BlackBoxOptim.Candidate{Float64}[BlackBoxOptim.Candidate{Float64}([0.0553666002937446, 0.7600972757076124, 0.22075502017861592, 0.49980720351495844], 3, 0.0008291591918325864, BlackBoxOptim.AdaptiveDiffEvoRandBin{3}(BlackBoxOptim.AdaptiveDiffEvoParameters(BlackBoxOptim.BimodalCauchy(Distributions.Cauchy{Float64}(μ=0.65, σ=0.1), Distributions.Cauchy{Float64}(μ=1.0, σ=0.1), 0.5, false, true), BlackBoxOptim.BimodalCauchy(Distributions.Cauchy{Float64}(μ=0.1, σ=0.1), Distributions.Cauchy{Float64}(μ=0.95, σ=0.1), 0.5, false, true), [1.0, 1.0, 0.6884812892234626, 1.0, 0.29741090148459737, 0.6799034292657841, 0.7784231927574793, 0.311173933777087, 0.9950870024627941, 0.5881541876173234  …  1.0, 0.9320416075961866, 1.0, 1.0, 1.0, 1.0, 1.0, 1.0, 1.0, 1.0], [0.07227534037857596, 0.607626218467526, 1.0, 0.9815016742237165, 0.15112562572454513, 0.014619213749300544, 0.9834150824214964, 0.10104606315849274, 0.06080246764299432, 0.3329752881619953  …  1.0, 0.9748412076566785, 0.9575203608791456, 1.0, 1.0, 0.9748406052692812, 0.11390561947772944, 0.916972905708179, 0.9264022036467603, 0.0465850622878251])), 0), BlackBoxOptim.Candidate{Float64}([0.10975276699434765, 0.7976091917805359, 0.21350841865409423, 0.49995866094669944], 3, 0.0009003472551332746, BlackBoxOptim.AdaptiveDiffEvoRandBin{3}(BlackBoxOptim.AdaptiveDiffEvoParameters(BlackBoxOptim.BimodalCauchy(Distributions.Cauchy{Float64}(μ=0.65, σ=0.1), Distributions.Cauchy{Float64}(μ=1.0, σ=0.1), 0.5, false, true), BlackBoxOptim.BimodalCauchy(Distributions.Cauchy{Float64}(μ=0.1, σ=0.1), Distributions.Cauchy{Float64}(μ=0.95, σ=0.1), 0.5, false, true), [1.0, 1.0, 0.6884812892234626, 1.0, 0.29741090148459737, 0.6799034292657841, 0.7784231927574793, 0.311173933777087, 0.9950870024627941, 0.5881541876173234  …  1.0, 0.9320416075961866, 1.0, 1.0, 1.0, 1.0, 1.0, 1.0, 1.0, 1.0], [0.07227534037857596, 0.607626218467526, 1.0, 0.9815016742237165, 0.15112562572454513, 0.014619213749300544, 0.9834150824214964, 0.10104606315849274, 0.06080246764299432, 0.3329752881619953  …  1.0, 0.9748412076566785, 0.9575203608791456, 1.0, 1.0, 0.9748406052692812, 0.11390561947772944, 0.916972905708179, 0.9264022036467603, 0.0465850622878251])), 0)])))"
      ]
     },
     "execution_count": 24,
     "metadata": {},
     "output_type": "execute_result"
    }
   ],
   "source": [
    "# Change in tolerance makes it worse\n",
    "obj_short = build_loss_objective(prob_short,Vern9(),\n",
    "    L2Loss(t_short,data_short),tstops=t_short,reltol=1e-9,abstol=1e-9)\n",
    "res1 = bboptimize(obj_short;SearchRange = glo_bounds, MaxSteps = 7e3)"
   ]
  },
  {
   "cell_type": "code",
   "execution_count": null,
   "metadata": {},
   "outputs": [],
   "source": []
  }
 ],
 "metadata": {
  "kernelspec": {
   "display_name": "Julia 1.3.0",
   "language": "julia",
   "name": "julia-1.3"
  },
  "language_info": {
   "file_extension": ".jl",
   "mimetype": "application/julia",
   "name": "julia",
   "version": "1.3.0"
  }
 },
 "nbformat": 4,
 "nbformat_minor": 2
}
