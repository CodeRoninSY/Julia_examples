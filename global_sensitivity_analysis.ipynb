{
 "cells": [
  {
   "cell_type": "markdown",
   "metadata": {},
   "source": [
    "# Global Sensitivity Analysis\n",
    "https://docs.juliadiffeq.org/latest/analysis/global_sensitivity/#Lotka-Volterra-Global-Sensitivities-1\n",
    "Global Sensitivity Analysis (GSA) methods are used to quantify the uncertainty in output of a model w.r.t. the parameters, their individual contributions, or the contribution of their interactions. The GSA interface allows for utilizing batched functions for parallel computation of GSA quantities."
   ]
  },
  {
   "cell_type": "markdown",
   "metadata": {},
   "source": [
    "## Lotka-Volterra Global Sensitivities"
   ]
  },
  {
   "cell_type": "code",
   "execution_count": 14,
   "metadata": {},
   "outputs": [
    {
     "name": "stderr",
     "output_type": "stream",
     "text": [
      "┌ Info: Precompiling QuasiMonteCarlo [8a4e6c94-4038-4cdc-81c3-7e6ffdb2a71b]\n",
      "└ @ Base loading.jl:1273\n"
     ]
    },
    {
     "data": {
      "text/plain": [
       "Plots.GRBackend()"
      ]
     },
     "execution_count": 14,
     "metadata": {},
     "output_type": "execute_result"
    }
   ],
   "source": [
    "using DiffEqSensitivity, Statistics, OrdinaryDiffEq\n",
    "using QuasiMonteCarlo\n",
    "using Plots\n",
    "gr()"
   ]
  },
  {
   "cell_type": "code",
   "execution_count": 15,
   "metadata": {},
   "outputs": [
    {
     "data": {
      "text/plain": [
       "200-element Array{Float64,1}:\n",
       "  0.0                \n",
       "  0.05025125628140704\n",
       "  0.10050251256281408\n",
       "  0.1507537688442211 \n",
       "  0.20100502512562815\n",
       "  0.25125628140703515\n",
       "  0.3015075376884422 \n",
       "  0.35175879396984927\n",
       "  0.4020100502512563 \n",
       "  0.45226130653266333\n",
       "  0.5025125628140703 \n",
       "  0.5527638190954773 \n",
       "  0.6030150753768844 \n",
       "  ⋮                  \n",
       "  9.447236180904522  \n",
       "  9.49748743718593   \n",
       "  9.547738693467336  \n",
       "  9.597989949748744  \n",
       "  9.64824120603015   \n",
       "  9.698492462311558  \n",
       "  9.748743718592964  \n",
       "  9.798994974874372  \n",
       "  9.849246231155778  \n",
       "  9.899497487437186  \n",
       "  9.949748743718592  \n",
       " 10.0                "
      ]
     },
     "execution_count": 15,
     "metadata": {},
     "output_type": "execute_result"
    }
   ],
   "source": [
    "function f(du,u,p,t)\n",
    "  du[1] = p[1]*u[1] - p[2]*u[1]*u[2] #prey\n",
    "  du[2] = -p[3]*u[2] + p[4]*u[1]*u[2] #predator\n",
    "end\n",
    "u0 = [1.0;1.0]\n",
    "tspan = (0.0,10.0)\n",
    "p = [1.5,1.0,3.0,1.0]\n",
    "prob = ODEProblem(f,u0,tspan,p) \n",
    "t = collect(range(0, stop=10, length=200))"
   ]
  },
  {
   "cell_type": "markdown",
   "metadata": {},
   "source": [
    "Now let's create a function that takes in a parameter set and calculates the maximum of the predator population and the average of the prey population for those parameter values. To do this, we will make use of the remake function which creates a new ODEProblem, and use the p keyword argument to set the new parameters:"
   ]
  },
  {
   "cell_type": "code",
   "execution_count": 16,
   "metadata": {},
   "outputs": [
    {
     "data": {
      "text/plain": [
       "#9 (generic function with 1 method)"
      ]
     },
     "execution_count": 16,
     "metadata": {},
     "output_type": "execute_result"
    }
   ],
   "source": [
    "f1 = function (p)\n",
    "  prob1 = remake(prob;p=p)\n",
    "  sol = solve(prob1,Tsit5();saveat=t)\n",
    "  [mean(sol[1,:]), maximum(sol[2,:])]\n",
    "end"
   ]
  },
  {
   "cell_type": "markdown",
   "metadata": {},
   "source": [
    "Now let's perform a Morris global sensitivity analysis on this model. We specify that the parameter range is [1,5] for each of the parameters, and thus call:"
   ]
  },
  {
   "cell_type": "code",
   "execution_count": 17,
   "metadata": {},
   "outputs": [
    {
     "data": {
      "text/plain": [
       "DiffEqSensitivity.MorrisResult{Array{Float64,2},Array{Any,1}}([0.13715431760284094 0.020593334342320246 0.3780004025887243 0.4670089646927272; 0.5748965694017728 1.0774999529619358 0.3422115338174255 0.3497796556692599], [0.1060338235313735 0.0006166982793181278 0.03495733238740061 0.34353867758732876; 0.38677498653688674 3.1065913355615553 0.07202169738243555 0.14260060174928924], Any[Array{Float64,1}[[0.05962213466053385, 0.10689969224605936], [0.07198766904353919, 0.09675220683458478], [0.07063548954666236, 0.11396264394402715], [0.07450529474193811, 0.49457917141434043], [0.039112207787082076, 0.4239951352493139], [0.039112207787082076, 0.4239951352493139], [0.02264957936644762, 0.7558901101086872], [0.020753847813478003, 0.7759428123086604], [0.018296746977946386, 0.7638654413695573], [0.1873740408074839, 0.13628181161260156]  …  [0.0018195460625767706, 0.2877471511431214], [0.0018195460625767706, 0.2877471511431214], [0.07170970421957905, 0.3044248373173042], [0.07170970421957905, 0.3044248373173042], [0.08257269988706625, 0.2987602241077997], [0.07275398230505672, 0.31838398133925666], [0.08246813829718228, 0.11721570726087763], [0.06986463131214464, 0.12932713435346746], [0.04658374970130356, 2.2871111449084345], [0.055959206990556426, 2.698172066087324]], Array{Float64,1}[[0.052084312120054155, 0.1041351989026904], [0.045197936706587935, 0.09648640089214226], [0.045197936706587935, 0.09648640089214226], [0.007420214273732858, 0.16202324088594083], [0.007420214273732858, 0.16202324088594083], [0.0071098223174943615, 0.15699558533709362], [0.00486816513446164, 0.1525374030602509], [0.00486816513446164, 0.1525374030602509], [0.013627620821400644, 0.13734781021956916], [0.010316924301552666, 0.13036506599613995]  …  [0.0001663171799202157, 0.04811837069785698], [0.005241079804030013, 0.05381997595572045], [0.000645169445313762, 1.4377211964945593], [0.0005298230895771662, 1.385337144104675], [0.019511325214700267, 0.3063611745392745], [0.019304826450678533, 0.3777159272858791], [0.016875378146047507, 0.1168849910462054], [0.013366609078286153, 0.12046042760582476], [0.008205668555834482, 6.806494579129238], [0.000512215126595494, 6.721221002987948]], Array{Float64,1}[[0.5868962712103516, 0.24068118782435233], [0.5962717147778123, 0.26697766448970905], [0.5962717147778123, 0.26697766448970905], [0.314875820463524, 0.22693331028347272], [0.3175856966128266, 0.22059589211306982], [0.34522497446885125, 0.5009448543097748], [0.18672481777472394, 0.17746716567159246], [0.22248979807518168, 0.10163129754895196], [0.2255667956216808, 0.09771609361220183], [0.2208013261358806, 0.11141066814491263]  …  [0.34214690107624846, 0.44081806330434653], [0.34214690107624846, 0.44081806330434653], [0.31927992592024673, 0.46381232435297115], [0.5378173272804245, 0.38086778690660683], [0.5378173272804245, 0.38086778690660683], [0.312178020255463, 0.25969372008883196], [0.30456440187278766, 0.2111754492403736], [0.4760419250460159, 0.9038139131967785], [0.43725907288891513, 1.3914075256408402], [0.43725907288891513, 1.3914075256408402]], Array{Float64,1}[[0.8908759073880229, 0.4379845992916713], [0.8839895319745568, 0.43033580128112314], [0.8839895319745568, 0.43033580128112314], [0.17500353294589807, 0.24336125901313577], [0.17500353294589807, 0.24336125901313577], [0.17488326009053448, 0.20023919317169092], [0.17712491727356722, 0.1957810108948482], [0.3789630344340382, 0.24105765369170878], [0.3836314276063119, 0.25891341685417746], [0.13277915580425165, 0.3773022235028706]  …  [0.17739263452392118, 0.19220402410054468], [0.17836547468934338, 0.19250718781853124], [0.25104385394777123, 0.3712919159385763], [0.7067189384920277, 0.46912574820989694], [0.6945532071235221, 0.44978812610901625], [0.3459597469882218, 0.2811680484722873], [0.33860830937383635, 0.2604390626993613], [0.3309416680814223, 0.25385694254657065], [1.0582125868501122, 1.2496201871089563], [1.0504092044004667, 1.6386330904651238]]])"
      ]
     },
     "execution_count": 17,
     "metadata": {},
     "output_type": "execute_result"
    }
   ],
   "source": [
    "m = gsa(f1,Morris(total_num_trajectory=1000,num_trajectory=150),[[1,5],[1,5],[1,5],[1,5]])"
   ]
  },
  {
   "cell_type": "markdown",
   "metadata": {},
   "source": [
    "Let's get the means and variances from the MorrisResult struct."
   ]
  },
  {
   "cell_type": "code",
   "execution_count": 18,
   "metadata": {},
   "outputs": [
    {
     "data": {
      "text/plain": [
       "2×4 Array{Float64,2}:\n",
       " 0.137154  0.0205933  0.378     0.467009\n",
       " 0.574897  1.0775     0.342212  0.34978 "
      ]
     },
     "execution_count": 18,
     "metadata": {},
     "output_type": "execute_result"
    }
   ],
   "source": [
    "m.means"
   ]
  },
  {
   "cell_type": "code",
   "execution_count": 19,
   "metadata": {},
   "outputs": [
    {
     "data": {
      "text/plain": [
       "2×4 Array{Float64,2}:\n",
       " 0.106034  0.000616698  0.0349573  0.343539\n",
       " 0.386775  3.10659      0.0720217  0.142601"
      ]
     },
     "execution_count": 19,
     "metadata": {},
     "output_type": "execute_result"
    }
   ],
   "source": [
    "m.variances"
   ]
  },
  {
   "cell_type": "markdown",
   "metadata": {},
   "source": [
    "Let's plot the result"
   ]
  },
  {
   "cell_type": "code",
   "execution_count": 20,
   "metadata": {},
   "outputs": [
    {
     "data": {
      "image/svg+xml": [
       "<?xml version=\"1.0\" encoding=\"utf-8\"?>\n",
       "<svg xmlns=\"http://www.w3.org/2000/svg\" xmlns:xlink=\"http://www.w3.org/1999/xlink\" width=\"600\" height=\"400\" viewBox=\"0 0 2400 1600\">\n",
       "<defs>\n",
       "  <clipPath id=\"clip1100\">\n",
       "    <rect x=\"0\" y=\"0\" width=\"2400\" height=\"1600\"/>\n",
       "  </clipPath>\n",
       "</defs>\n",
       "<path clip-path=\"url(#clip1100)\" d=\"\n",
       "M0 1600 L2400 1600 L2400 0 L0 0  Z\n",
       "  \" fill=\"#ffffff\" fill-rule=\"evenodd\" fill-opacity=\"1\"/>\n",
       "<defs>\n",
       "  <clipPath id=\"clip1101\">\n",
       "    <rect x=\"480\" y=\"0\" width=\"1681\" height=\"1600\"/>\n",
       "  </clipPath>\n",
       "</defs>\n",
       "<path clip-path=\"url(#clip1100)\" d=\"\n",
       "M113.754 1487.47 L2352.76 1487.47 L2352.76 47.2441 L113.754 47.2441  Z\n",
       "  \" fill=\"#ffffff\" fill-rule=\"evenodd\" fill-opacity=\"1\"/>\n",
       "<defs>\n",
       "  <clipPath id=\"clip1102\">\n",
       "    <rect x=\"113\" y=\"47\" width=\"2240\" height=\"1441\"/>\n",
       "  </clipPath>\n",
       "</defs>\n",
       "<polyline clip-path=\"url(#clip1102)\" style=\"stroke:#000000; stroke-width:2; stroke-opacity:0.1; fill:none\" points=\"\n",
       "  343.132,1487.47 343.132,47.2441 \n",
       "  \"/>\n",
       "<polyline clip-path=\"url(#clip1102)\" style=\"stroke:#000000; stroke-width:2; stroke-opacity:0.1; fill:none\" points=\"\n",
       "  630.402,1487.47 630.402,47.2441 \n",
       "  \"/>\n",
       "<polyline clip-path=\"url(#clip1102)\" style=\"stroke:#000000; stroke-width:2; stroke-opacity:0.1; fill:none\" points=\"\n",
       "  917.672,1487.47 917.672,47.2441 \n",
       "  \"/>\n",
       "<polyline clip-path=\"url(#clip1102)\" style=\"stroke:#000000; stroke-width:2; stroke-opacity:0.1; fill:none\" points=\"\n",
       "  1204.94,1487.47 1204.94,47.2441 \n",
       "  \"/>\n",
       "<polyline clip-path=\"url(#clip1102)\" style=\"stroke:#000000; stroke-width:2; stroke-opacity:0.1; fill:none\" points=\"\n",
       "  1492.21,1487.47 1492.21,47.2441 \n",
       "  \"/>\n",
       "<polyline clip-path=\"url(#clip1102)\" style=\"stroke:#000000; stroke-width:2; stroke-opacity:0.1; fill:none\" points=\"\n",
       "  1779.48,1487.47 1779.48,47.2441 \n",
       "  \"/>\n",
       "<polyline clip-path=\"url(#clip1102)\" style=\"stroke:#000000; stroke-width:2; stroke-opacity:0.1; fill:none\" points=\"\n",
       "  2066.75,1487.47 2066.75,47.2441 \n",
       "  \"/>\n",
       "<polyline clip-path=\"url(#clip1102)\" style=\"stroke:#000000; stroke-width:2; stroke-opacity:0.1; fill:none\" points=\"\n",
       "  113.754,1478.96 2352.76,1478.96 \n",
       "  \"/>\n",
       "<polyline clip-path=\"url(#clip1102)\" style=\"stroke:#000000; stroke-width:2; stroke-opacity:0.1; fill:none\" points=\"\n",
       "  113.754,1031.22 2352.76,1031.22 \n",
       "  \"/>\n",
       "<polyline clip-path=\"url(#clip1102)\" style=\"stroke:#000000; stroke-width:2; stroke-opacity:0.1; fill:none\" points=\"\n",
       "  113.754,583.474 2352.76,583.474 \n",
       "  \"/>\n",
       "<polyline clip-path=\"url(#clip1102)\" style=\"stroke:#000000; stroke-width:2; stroke-opacity:0.1; fill:none\" points=\"\n",
       "  113.754,135.731 2352.76,135.731 \n",
       "  \"/>\n",
       "<polyline clip-path=\"url(#clip1100)\" style=\"stroke:#000000; stroke-width:4; stroke-opacity:1; fill:none\" points=\"\n",
       "  113.754,1487.47 2352.76,1487.47 \n",
       "  \"/>\n",
       "<polyline clip-path=\"url(#clip1100)\" style=\"stroke:#000000; stroke-width:4; stroke-opacity:1; fill:none\" points=\"\n",
       "  113.754,1487.47 113.754,47.2441 \n",
       "  \"/>\n",
       "<polyline clip-path=\"url(#clip1100)\" style=\"stroke:#000000; stroke-width:4; stroke-opacity:1; fill:none\" points=\"\n",
       "  343.132,1487.47 343.132,1465.87 \n",
       "  \"/>\n",
       "<polyline clip-path=\"url(#clip1100)\" style=\"stroke:#000000; stroke-width:4; stroke-opacity:1; fill:none\" points=\"\n",
       "  630.402,1487.47 630.402,1465.87 \n",
       "  \"/>\n",
       "<polyline clip-path=\"url(#clip1100)\" style=\"stroke:#000000; stroke-width:4; stroke-opacity:1; fill:none\" points=\"\n",
       "  917.672,1487.47 917.672,1465.87 \n",
       "  \"/>\n",
       "<polyline clip-path=\"url(#clip1100)\" style=\"stroke:#000000; stroke-width:4; stroke-opacity:1; fill:none\" points=\"\n",
       "  1204.94,1487.47 1204.94,1465.87 \n",
       "  \"/>\n",
       "<polyline clip-path=\"url(#clip1100)\" style=\"stroke:#000000; stroke-width:4; stroke-opacity:1; fill:none\" points=\"\n",
       "  1492.21,1487.47 1492.21,1465.87 \n",
       "  \"/>\n",
       "<polyline clip-path=\"url(#clip1100)\" style=\"stroke:#000000; stroke-width:4; stroke-opacity:1; fill:none\" points=\"\n",
       "  1779.48,1487.47 1779.48,1465.87 \n",
       "  \"/>\n",
       "<polyline clip-path=\"url(#clip1100)\" style=\"stroke:#000000; stroke-width:4; stroke-opacity:1; fill:none\" points=\"\n",
       "  2066.75,1487.47 2066.75,1465.87 \n",
       "  \"/>\n",
       "<polyline clip-path=\"url(#clip1100)\" style=\"stroke:#000000; stroke-width:4; stroke-opacity:1; fill:none\" points=\"\n",
       "  113.754,1478.96 147.339,1478.96 \n",
       "  \"/>\n",
       "<polyline clip-path=\"url(#clip1100)\" style=\"stroke:#000000; stroke-width:4; stroke-opacity:1; fill:none\" points=\"\n",
       "  113.754,1031.22 147.339,1031.22 \n",
       "  \"/>\n",
       "<polyline clip-path=\"url(#clip1100)\" style=\"stroke:#000000; stroke-width:4; stroke-opacity:1; fill:none\" points=\"\n",
       "  113.754,583.474 147.339,583.474 \n",
       "  \"/>\n",
       "<polyline clip-path=\"url(#clip1100)\" style=\"stroke:#000000; stroke-width:4; stroke-opacity:1; fill:none\" points=\"\n",
       "  113.754,135.731 147.339,135.731 \n",
       "  \"/>\n",
       "<g clip-path=\"url(#clip1100)\">\n",
       "<text style=\"fill:#000000; fill-opacity:1; font-family:Arial,Helvetica Neue,Helvetica,sans-serif; font-size:48px; text-anchor:middle;\" transform=\"rotate(0, 343.132, 1541.47)\" x=\"343.132\" y=\"1541.47\">0.4</text>\n",
       "</g>\n",
       "<g clip-path=\"url(#clip1100)\">\n",
       "<text style=\"fill:#000000; fill-opacity:1; font-family:Arial,Helvetica Neue,Helvetica,sans-serif; font-size:48px; text-anchor:middle;\" transform=\"rotate(0, 630.402, 1541.47)\" x=\"630.402\" y=\"1541.47\">0.5</text>\n",
       "</g>\n",
       "<g clip-path=\"url(#clip1100)\">\n",
       "<text style=\"fill:#000000; fill-opacity:1; font-family:Arial,Helvetica Neue,Helvetica,sans-serif; font-size:48px; text-anchor:middle;\" transform=\"rotate(0, 917.672, 1541.47)\" x=\"917.672\" y=\"1541.47\">0.6</text>\n",
       "</g>\n",
       "<g clip-path=\"url(#clip1100)\">\n",
       "<text style=\"fill:#000000; fill-opacity:1; font-family:Arial,Helvetica Neue,Helvetica,sans-serif; font-size:48px; text-anchor:middle;\" transform=\"rotate(0, 1204.94, 1541.47)\" x=\"1204.94\" y=\"1541.47\">0.7</text>\n",
       "</g>\n",
       "<g clip-path=\"url(#clip1100)\">\n",
       "<text style=\"fill:#000000; fill-opacity:1; font-family:Arial,Helvetica Neue,Helvetica,sans-serif; font-size:48px; text-anchor:middle;\" transform=\"rotate(0, 1492.21, 1541.47)\" x=\"1492.21\" y=\"1541.47\">0.8</text>\n",
       "</g>\n",
       "<g clip-path=\"url(#clip1100)\">\n",
       "<text style=\"fill:#000000; fill-opacity:1; font-family:Arial,Helvetica Neue,Helvetica,sans-serif; font-size:48px; text-anchor:middle;\" transform=\"rotate(0, 1779.48, 1541.47)\" x=\"1779.48\" y=\"1541.47\">0.9</text>\n",
       "</g>\n",
       "<g clip-path=\"url(#clip1100)\">\n",
       "<text style=\"fill:#000000; fill-opacity:1; font-family:Arial,Helvetica Neue,Helvetica,sans-serif; font-size:48px; text-anchor:middle;\" transform=\"rotate(0, 2066.75, 1541.47)\" x=\"2066.75\" y=\"1541.47\">1.0</text>\n",
       "</g>\n",
       "<g clip-path=\"url(#clip1100)\">\n",
       "<text style=\"fill:#000000; fill-opacity:1; font-family:Arial,Helvetica Neue,Helvetica,sans-serif; font-size:48px; text-anchor:end;\" transform=\"rotate(0, 89.7545, 1496.46)\" x=\"89.7545\" y=\"1496.46\">0</text>\n",
       "</g>\n",
       "<g clip-path=\"url(#clip1100)\">\n",
       "<text style=\"fill:#000000; fill-opacity:1; font-family:Arial,Helvetica Neue,Helvetica,sans-serif; font-size:48px; text-anchor:end;\" transform=\"rotate(0, 89.7545, 1048.72)\" x=\"89.7545\" y=\"1048.72\">1</text>\n",
       "</g>\n",
       "<g clip-path=\"url(#clip1100)\">\n",
       "<text style=\"fill:#000000; fill-opacity:1; font-family:Arial,Helvetica Neue,Helvetica,sans-serif; font-size:48px; text-anchor:end;\" transform=\"rotate(0, 89.7545, 600.974)\" x=\"89.7545\" y=\"600.974\">2</text>\n",
       "</g>\n",
       "<g clip-path=\"url(#clip1100)\">\n",
       "<text style=\"fill:#000000; fill-opacity:1; font-family:Arial,Helvetica Neue,Helvetica,sans-serif; font-size:48px; text-anchor:end;\" transform=\"rotate(0, 89.7545, 153.231)\" x=\"89.7545\" y=\"153.231\">3</text>\n",
       "</g>\n",
       "<circle clip-path=\"url(#clip1102)\" style=\"fill:#000000; stroke:none; fill-opacity:1\" cx=\"845.558\" cy=\"1305.78\" r=\"18\"/>\n",
       "<circle clip-path=\"url(#clip1102)\" style=\"fill:#808080; stroke:none; fill-opacity:1\" cx=\"845.558\" cy=\"1305.78\" r=\"14\"/>\n",
       "<circle clip-path=\"url(#clip1102)\" style=\"fill:#000000; stroke:none; fill-opacity:1\" cx=\"2289.39\" cy=\"88.0053\" r=\"18\"/>\n",
       "<circle clip-path=\"url(#clip1102)\" style=\"fill:#808080; stroke:none; fill-opacity:1\" cx=\"2289.39\" cy=\"88.0053\" r=\"14\"/>\n",
       "<circle clip-path=\"url(#clip1102)\" style=\"fill:#000000; stroke:none; fill-opacity:1\" cx=\"177.122\" cy=\"1446.71\" r=\"18\"/>\n",
       "<circle clip-path=\"url(#clip1102)\" style=\"fill:#808080; stroke:none; fill-opacity:1\" cx=\"177.122\" cy=\"1446.71\" r=\"14\"/>\n",
       "<circle clip-path=\"url(#clip1102)\" style=\"fill:#000000; stroke:none; fill-opacity:1\" cx=\"198.863\" cy=\"1415.11\" r=\"18\"/>\n",
       "<circle clip-path=\"url(#clip1102)\" style=\"fill:#808080; stroke:none; fill-opacity:1\" cx=\"198.863\" cy=\"1415.11\" r=\"14\"/>\n",
       "<g clip-path=\"url(#clip1100)\">\n",
       "<text style=\"fill:#000000; fill-opacity:1; font-family:Arial,Helvetica Neue,Helvetica,sans-serif; font-size:84px; text-anchor:middle;\" transform=\"rotate(0, 845.558, 1336.28)\" x=\"845.558\" y=\"1336.28\">a</text>\n",
       "</g>\n",
       "<g clip-path=\"url(#clip1100)\">\n",
       "<text style=\"fill:#000000; fill-opacity:1; font-family:Arial,Helvetica Neue,Helvetica,sans-serif; font-size:84px; text-anchor:middle;\" transform=\"rotate(0, 2289.39, 118.505)\" x=\"2289.39\" y=\"118.505\">b</text>\n",
       "</g>\n",
       "<g clip-path=\"url(#clip1100)\">\n",
       "<text style=\"fill:#000000; fill-opacity:1; font-family:Arial,Helvetica Neue,Helvetica,sans-serif; font-size:84px; text-anchor:middle;\" transform=\"rotate(0, 177.122, 1477.21)\" x=\"177.122\" y=\"1477.21\">c</text>\n",
       "</g>\n",
       "<g clip-path=\"url(#clip1100)\">\n",
       "<text style=\"fill:#000000; fill-opacity:1; font-family:Arial,Helvetica Neue,Helvetica,sans-serif; font-size:84px; text-anchor:middle;\" transform=\"rotate(0, 198.863, 1445.61)\" x=\"198.863\" y=\"1445.61\">d</text>\n",
       "</g>\n",
       "<path clip-path=\"url(#clip1100)\" d=\"\n",
       "M1989.93 251.724 L2280.76 251.724 L2280.76 130.764 L1989.93 130.764  Z\n",
       "  \" fill=\"#ffffff\" fill-rule=\"evenodd\" fill-opacity=\"1\"/>\n",
       "<polyline clip-path=\"url(#clip1100)\" style=\"stroke:#000000; stroke-width:4; stroke-opacity:1; fill:none\" points=\"\n",
       "  1989.93,251.724 2280.76,251.724 2280.76,130.764 1989.93,130.764 1989.93,251.724 \n",
       "  \"/>\n",
       "<circle clip-path=\"url(#clip1100)\" style=\"fill:#000000; stroke:none; fill-opacity:1\" cx=\"2097.93\" cy=\"191.244\" r=\"25\"/>\n",
       "<circle clip-path=\"url(#clip1100)\" style=\"fill:#808080; stroke:none; fill-opacity:1\" cx=\"2097.93\" cy=\"191.244\" r=\"21\"/>\n",
       "<g clip-path=\"url(#clip1100)\">\n",
       "<text style=\"fill:#000000; fill-opacity:1; font-family:Arial,Helvetica Neue,Helvetica,sans-serif; font-size:48px; text-anchor:start;\" transform=\"rotate(0, 2181.93, 208.744)\" x=\"2181.93\" y=\"208.744\">y1</text>\n",
       "</g>\n",
       "</svg>\n"
      ]
     },
     "execution_count": 20,
     "metadata": {},
     "output_type": "execute_result"
    }
   ],
   "source": [
    "scatter(m.means[1,:], m.variances[1,:],series_annotations=[:a,:b,:c,:d],color=:gray)\n",
    "scatter(m.means[2,:], m.variances[2,:],series_annotations=[:a,:b,:c,:d],color=:gray)"
   ]
  },
  {
   "cell_type": "markdown",
   "metadata": {},
   "source": [
    "For the Sobol method we can similarly do:"
   ]
  },
  {
   "cell_type": "code",
   "execution_count": 21,
   "metadata": {},
   "outputs": [
    {
     "ename": "MethodError",
     "evalue": "MethodError: no method matching gsa(::var\"#9#10\", ::Sobol, ::Array{Array{Int64,1},1})\nClosest candidates are:\n  gsa(::Any, !Matched::Morris, ::AbstractArray{T,1} where T; batch) at /home/seneryilmaz/.julia/packages/DiffEqSensitivity/4MT0T/src/morris_sensitivity.jl:68\n  gsa(::Any, ::Sobol, !Matched::AbstractArray{T,2} where T, !Matched::AbstractArray{T,2} where T; batch, Ei_estimator) at /home/seneryilmaz/.julia/packages/DiffEqSensitivity/4MT0T/src/sobol_sensitivity.jl:27",
     "output_type": "error",
     "traceback": [
      "MethodError: no method matching gsa(::var\"#9#10\", ::Sobol, ::Array{Array{Int64,1},1})\nClosest candidates are:\n  gsa(::Any, !Matched::Morris, ::AbstractArray{T,1} where T; batch) at /home/seneryilmaz/.julia/packages/DiffEqSensitivity/4MT0T/src/morris_sensitivity.jl:68\n  gsa(::Any, ::Sobol, !Matched::AbstractArray{T,2} where T, !Matched::AbstractArray{T,2} where T; batch, Ei_estimator) at /home/seneryilmaz/.julia/packages/DiffEqSensitivity/4MT0T/src/sobol_sensitivity.jl:27",
      "",
      "Stacktrace:",
      " [1] top-level scope at In[21]:1"
     ]
    }
   ],
   "source": [
    "m = gsa(f1,Sobol(),[[1,5],[1,5],[1,5],[1,5]])"
   ]
  },
  {
   "cell_type": "markdown",
   "metadata": {},
   "source": [
    "## Design Matrices\n",
    "For the Sobol Method, we can have more control over the sampled points by generating design matrices. Doing it in this manner lets us directly specify a quasi-Monte Carlo sampling method for the parameter space. Here we use QuasiMonteCarlo.jl to generate the design matrices as follows:"
   ]
  },
  {
   "cell_type": "code",
   "execution_count": 13,
   "metadata": {},
   "outputs": [
    {
     "ename": "UndefVarError",
     "evalue": "UndefVarError: SobolSample not defined",
     "output_type": "error",
     "traceback": [
      "UndefVarError: SobolSample not defined",
      "",
      "Stacktrace:",
      " [1] top-level scope at In[13]:4"
     ]
    }
   ],
   "source": [
    "N = 10000\n",
    "lb = [1.0, 1.0, 1.0, 1.0]\n",
    "ub = [5.0, 5.0, 5.0, 5.0]\n",
    "sampler = SobolSample()\n",
    "A,B = QuasiMonteCarlo.generate_design_matrices(N,lb,ub,sampler)"
   ]
  },
  {
   "cell_type": "code",
   "execution_count": null,
   "metadata": {},
   "outputs": [],
   "source": []
  }
 ],
 "metadata": {
  "kernelspec": {
   "display_name": "Julia 1.3.0",
   "language": "julia",
   "name": "julia-1.3"
  },
  "language_info": {
   "file_extension": ".jl",
   "mimetype": "application/julia",
   "name": "julia",
   "version": "1.3.0"
  }
 },
 "nbformat": 4,
 "nbformat_minor": 2
}
