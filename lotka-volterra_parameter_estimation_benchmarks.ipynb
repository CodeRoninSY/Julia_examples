{
 "cells": [
  {
   "cell_type": "markdown",
   "metadata": {},
   "source": [
    "# Lotka-Volterra Parameter Estimation Benchmarks\n",
    "https://benchmarks.juliadiffeq.org/html/ParameterEstimation/LotkaVolterraParameterEstimation.html\n",
    "\n",
    "## Parameter estimation of Lotka Volterra model using optimisation methods"
   ]
  },
  {
   "cell_type": "code",
   "execution_count": 1,
   "metadata": {},
   "outputs": [
    {
     "data": {
      "text/plain": [
       "Plots.PyPlotBackend()"
      ]
     },
     "execution_count": 1,
     "metadata": {},
     "output_type": "execute_result"
    }
   ],
   "source": [
    "using ParameterizedFunctions, OrdinaryDiffEq, DiffEqParamEstim\n",
    "using BlackBoxOptim, NLopt, Plots, RecursiveArrayTools\n",
    "# gr(fmt=:png)\n",
    "pyplot(fmt=:png)"
   ]
  },
  {
   "cell_type": "code",
   "execution_count": 2,
   "metadata": {},
   "outputs": [
    {
     "data": {
      "text/plain": [
       "4-element Array{Int64,1}:\n",
       " 5\n",
       " 5\n",
       " 5\n",
       " 5"
      ]
     },
     "execution_count": 2,
     "metadata": {},
     "output_type": "execute_result"
    }
   ],
   "source": [
    "loc_bounds = Tuple{Float64, Float64}[(0, 5), (0, 5), (0, 5), (0, 5)]\n",
    "glo_bounds = Tuple{Float64, Float64}[(0, 10), (0, 10), (0, 10), (0, 10)]\n",
    "loc_init = [1,0.5,3.5,1.5]\n",
    "glo_init = [5,5,5,5]"
   ]
  },
  {
   "cell_type": "code",
   "execution_count": 3,
   "metadata": {},
   "outputs": [
    {
     "data": {
      "text/plain": [
       "(::LotkaVolterraTest{var\"#7#11\",var\"#8#12\",var\"#9#13\",Nothing,Nothing,var\"#10#14\",Expr,Expr}) (generic function with 2 methods)"
      ]
     },
     "execution_count": 3,
     "metadata": {},
     "output_type": "execute_result"
    }
   ],
   "source": [
    "f = @ode_def LotkaVolterraTest begin\n",
    "    dx = a*x - b*x*y\n",
    "    dy = -c*y + d*x*y\n",
    "end a b c d"
   ]
  },
  {
   "cell_type": "code",
   "execution_count": 4,
   "metadata": {},
   "outputs": [
    {
     "data": {
      "text/plain": [
       "\u001b[36mODEProblem\u001b[0m with uType \u001b[36mArray{Float64,1}\u001b[0m and tType \u001b[36mFloat64\u001b[0m. In-place: \u001b[36mtrue\u001b[0m\n",
       "timespan: (0.0, 3.0)\n",
       "u0: [1.0, 1.0]"
      ]
     },
     "execution_count": 4,
     "metadata": {},
     "output_type": "execute_result"
    }
   ],
   "source": [
    "u0 = [1.0,1.0]                          #initial values\n",
    "tspan = (0.0,10.0)\n",
    "p = [1.5,1.0,3.0,1,0]                   #parameters used, these need to be estimated from the data\n",
    "tspan = (0.0, 30.0)                     # sample of 3000 observations over the (0,30) timespan\n",
    "prob = ODEProblem(f, u0, tspan,p)\n",
    "tspan2 = (0.0, 3.0)                     # sample of 3000 observations over the (0,30) timespan\n",
    "prob_short = ODEProblem(f, u0, tspan2,p)"
   ]
  },
  {
   "cell_type": "code",
   "execution_count": 5,
   "metadata": {},
   "outputs": [
    {
     "data": {
      "text/plain": [
       "3001-element Array{Float64,1}:\n",
       "  0.0 \n",
       "  0.01\n",
       "  0.02\n",
       "  0.03\n",
       "  0.04\n",
       "  0.05\n",
       "  0.06\n",
       "  0.07\n",
       "  0.08\n",
       "  0.09\n",
       "  0.1 \n",
       "  0.11\n",
       "  0.12\n",
       "  ⋮   \n",
       " 29.89\n",
       " 29.9 \n",
       " 29.91\n",
       " 29.92\n",
       " 29.93\n",
       " 29.94\n",
       " 29.95\n",
       " 29.96\n",
       " 29.97\n",
       " 29.98\n",
       " 29.99\n",
       " 30.0 "
      ]
     },
     "execution_count": 5,
     "metadata": {},
     "output_type": "execute_result"
    }
   ],
   "source": [
    "dt = 30.0/3000\n",
    "tf = 30.0\n",
    "tinterval = 0:dt:tf\n",
    "t  = collect(tinterval)"
   ]
  },
  {
   "cell_type": "code",
   "execution_count": 6,
   "metadata": {},
   "outputs": [
    {
     "data": {
      "text/plain": [
       "301-element Array{Float64,1}:\n",
       " 0.0 \n",
       " 0.01\n",
       " 0.02\n",
       " 0.03\n",
       " 0.04\n",
       " 0.05\n",
       " 0.06\n",
       " 0.07\n",
       " 0.08\n",
       " 0.09\n",
       " 0.1 \n",
       " 0.11\n",
       " 0.12\n",
       " ⋮   \n",
       " 2.89\n",
       " 2.9 \n",
       " 2.91\n",
       " 2.92\n",
       " 2.93\n",
       " 2.94\n",
       " 2.95\n",
       " 2.96\n",
       " 2.97\n",
       " 2.98\n",
       " 2.99\n",
       " 3.0 "
      ]
     },
     "execution_count": 6,
     "metadata": {},
     "output_type": "execute_result"
    }
   ],
   "source": [
    "h = 0.01\n",
    "M = 300\n",
    "tstart = 0.0\n",
    "tstop = tstart + M * h\n",
    "tinterval_short = 0:h:tstop\n",
    "t_short = collect(tinterval_short)"
   ]
  },
  {
   "cell_type": "code",
   "execution_count": 7,
   "metadata": {},
   "outputs": [
    {
     "data": {
      "text/plain": [
       "2×3001 Array{Float64,2}:\n",
       " 1.0  1.00511   1.01045   1.01601   1.02179   …  1.07814   1.08595   1.09398 \n",
       " 1.0  0.980224  0.960888  0.941986  0.923508     0.785597  0.770673  0.756092"
      ]
     },
     "execution_count": 7,
     "metadata": {},
     "output_type": "execute_result"
    }
   ],
   "source": [
    "#Generate Data\n",
    "data_sol_short = solve(prob_short,Tsit5(),saveat=t_short,\n",
    "    reltol=1e-9,abstol=1e-9)\n",
    "data_short = convert(Array, data_sol_short)\n",
    "data_sol = solve(prob,Tsit5(),saveat=t,reltol=1e-9,abstol=1e-9)\n",
    "data = convert(Array, data_sol)"
   ]
  },
  {
   "cell_type": "markdown",
   "metadata": {},
   "source": [
    "## Plot of the solution\n",
    "### Short solution"
   ]
  },
  {
   "cell_type": "code",
   "execution_count": 8,
   "metadata": {},
   "outputs": [
    {
     "data": {
      "image/png": "[encoded data removed]"
     },
     "execution_count": 8,
     "metadata": {},
     "output_type": "execute_result"
    }
   ],
   "source": [
    "p1 = plot(data_sol_short)"
   ]
  },
  {
   "cell_type": "markdown",
   "metadata": {},
   "source": [
    "### Longer solution"
   ]
  },
  {
   "cell_type": "code",
   "execution_count": 9,
   "metadata": {},
   "outputs": [
    {
     "data": {
      "image/png": "[encoded data removed]"
     },
     "execution_count": 9,
     "metadata": {},
     "output_type": "execute_result"
    }
   ],
   "source": [
    "p2 = plot(data_sol)"
   ]
  },
  {
   "cell_type": "markdown",
   "metadata": {},
   "source": [
    "## Local Solution from the short data set"
   ]
  },
  {
   "cell_type": "code",
   "execution_count": 10,
   "metadata": {},
   "outputs": [
    {
     "name": "stdout",
     "output_type": "stream",
     "text": [
      "Starting optimization with optimizer DiffEvoOpt{FitPopulation{Float64},RadiusLimitedSelector,BlackBoxOptim.AdaptiveDiffEvoRandBin{3},RandomBound{ContinuousRectSearchSpace}}\n",
      "0.00 secs, 0 evals, 0 steps\n",
      "0.50 secs, 2211 evals, 2079 steps, improv/step: 0.187 (last = 0.1866), fitness=360.038767395\n",
      "1.00 secs, 5098 evals, 4967 steps, improv/step: 0.179 (last = 0.1738), fitness=0.143648654\n",
      "\n",
      "Optimization stopped after 7001 steps and 1.34 seconds\n",
      "Termination reason: Max number of steps (7000) reached\n",
      "Steps per second = 5215.70\n",
      "Function evals per second = 5313.30\n",
      "Improvements/step = 0.17600\n",
      "Total function evaluations = 7132\n",
      "\n",
      "\n",
      "Best candidate found: [1.49906, 0.998988, 3.00403, 1.00157]\n",
      "\n",
      "Fitness: 0.002469181\n",
      "\n"
     ]
    },
    {
     "data": {
      "text/plain": [
       "BlackBoxOptim.OptimizationResults(\"adaptive_de_rand_1_bin_radiuslimited\", \"Max number of steps (7000) reached\", 7001, 1.581107946291639e9, 1.3422930240631104, DictChain{Symbol,Any}[DictChain{Symbol,Any}[Dict{Symbol,Any}(:RngSeed => 728266,:SearchRange => Tuple{Float64,Float64}[(0.0, 10.0), (0.0, 10.0), (0.0, 10.0), (0.0, 10.0)],:MaxSteps => 7000),Dict{Symbol,Any}()],Dict{Symbol,Any}(:FitnessScheme => ScalarFitnessScheme{true}(),:NumDimensions => :NotSpecified,:PopulationSize => 50,:MaxTime => 0.0,:SearchRange => (-1.0, 1.0),:Method => :adaptive_de_rand_1_bin_radiuslimited,:MaxNumStepsWithoutFuncEvals => 100,:RngSeed => 1234,:MaxFuncEvals => 0,:SaveTrace => false…)], 7132, ScalarFitnessScheme{true}(), BlackBoxOptim.TopListArchiveOutput{Float64,Array{Float64,1}}(0.002469180789917219, [1.4990587962494821, 0.998987825579432, 3.0040349267943163, 1.0015652444252021]), BlackBoxOptim.PopulationOptimizerOutput{FitPopulation{Float64}}(FitPopulation{Float64}([1.4974333203869399 1.4999688491142538 … 1.4986567316904078 1.4942978717644226; 1.0046424738430515 1.0067023454962671 … 0.9985519119907472 0.9910398698531709; 3.034607847064462 2.9954865454789745 … 3.015388762980488 3.017016123822026; 1.0081291264540453 0.9987891718441726 … 1.0062681261039976 1.00879550999242], NaN, [0.09173149508374276, 0.19825995938702734, 0.20108723202702122, 0.09433589269808791, 0.25158061700719786, 0.10191843232774637, 0.16024637561010216, 0.009637255988402111, 0.009550762882283832, 0.042561501476363714  …  0.024352524368973116, 0.010006290266260905, 0.04277502015668896, 0.04540305431435825, 0.052727463418409504, 0.09552510720527743, 0.052824234765904705, 0.052824234765910215, 0.1298945550294763, 0.17751517883595505], 0, BlackBoxOptim.Candidate{Float64}[BlackBoxOptim.Candidate{Float64}([1.5039168223287782, 0.9997014099822424, 2.9805632377597027, 0.9930112925312341], 13, 0.023063869000432488, BlackBoxOptim.AdaptiveDiffEvoRandBin{3}(BlackBoxOptim.AdaptiveDiffEvoParameters(BlackBoxOptim.BimodalCauchy(Distributions.Cauchy{Float64}(μ=0.65, σ=0.1), Distributions.Cauchy{Float64}(μ=1.0, σ=0.1), 0.5, false, true), BlackBoxOptim.BimodalCauchy(Distributions.Cauchy{Float64}(μ=0.1, σ=0.1), Distributions.Cauchy{Float64}(μ=0.95, σ=0.1), 0.5, false, true), [1.0, 0.9214460716715639, 0.6796652553907685, 1.0, 0.5964398036193232, 1.0, 1.0, 1.0, 0.6747916837909052, 0.9061532936942434  …  1.0, 0.7007331248957739, 0.6502587695872362, 1.0, 1.0, 0.7169019503588139, 0.7639582854249897, 0.5655664329053174, 0.9985639810702085, 1.0], [1.0, 0.09456698868370216, 1.0, 0.1353683891701576, 1.0, 0.8919869240845456, 1.0, 0.8273507466909318, 0.08499428404814138, 0.07518709223566174  …  0.9495839615356436, 0.9506989466585696, 1.0, 0.12107243338157135, 0.9039713180276163, 0.13715393903065823, 0.17899124700253538, 0.08588962357939393, 0.13457995365324807, 1.0])), 0), BlackBoxOptim.Candidate{Float64}([1.4933019433463648, 0.9997014099822424, 3.0205653357701667, 1.0091683168955843], 13, 0.11950432308733742, BlackBoxOptim.AdaptiveDiffEvoRandBin{3}(BlackBoxOptim.AdaptiveDiffEvoParameters(BlackBoxOptim.BimodalCauchy(Distributions.Cauchy{Float64}(μ=0.65, σ=0.1), Distributions.Cauchy{Float64}(μ=1.0, σ=0.1), 0.5, false, true), BlackBoxOptim.BimodalCauchy(Distributions.Cauchy{Float64}(μ=0.1, σ=0.1), Distributions.Cauchy{Float64}(μ=0.95, σ=0.1), 0.5, false, true), [1.0, 0.9214460716715639, 0.6796652553907685, 1.0, 0.5964398036193232, 1.0, 1.0, 1.0, 0.6747916837909052, 0.9061532936942434  …  1.0, 0.7007331248957739, 0.6502587695872362, 1.0, 1.0, 0.7169019503588139, 0.7639582854249897, 0.5655664329053174, 0.9985639810702085, 1.0], [1.0, 0.09456698868370216, 1.0, 0.1353683891701576, 1.0, 0.8919869240845456, 1.0, 0.8273507466909318, 0.08499428404814138, 0.07518709223566174  …  0.9495839615356436, 0.9506989466585696, 1.0, 0.12107243338157135, 0.9039713180276163, 0.13715393903065823, 0.17899124700253538, 0.08588962357939393, 0.13457995365324807, 1.0])), 0)])))"
      ]
     },
     "execution_count": 10,
     "metadata": {},
     "output_type": "execute_result"
    }
   ],
   "source": [
    "obj_short = build_loss_objective(prob_short,Tsit5(),\n",
    "    L2Loss(t_short,data_short),tstops=t_short)\n",
    "res1 = bboptimize(obj_short;SearchRange = glo_bounds, MaxSteps = 7e3)\n"
   ]
  },
  {
   "cell_type": "code",
   "execution_count": 11,
   "metadata": {},
   "outputs": [
    {
     "name": "stdout",
     "output_type": "stream",
     "text": [
      "Starting optimization with optimizer DiffEvoOpt{FitPopulation{Float64},RadiusLimitedSelector,BlackBoxOptim.AdaptiveDiffEvoRandBin{3},RandomBound{ContinuousRectSearchSpace}}\n",
      "0.00 secs, 0 evals, 0 steps\n",
      "0.50 secs, 2859 evals, 2747 steps, improv/step: 0.177 (last = 0.1769), fitness=24.830191288\n",
      "1.00 secs, 5806 evals, 5695 steps, improv/step: 0.175 (last = 0.1727), fitness=0.036883387\n",
      "\n",
      "Optimization stopped after 7001 steps and 1.22 seconds\n",
      "Termination reason: Max number of steps (7000) reached\n",
      "Steps per second = 5736.85\n",
      "Function evals per second = 5826.99\n",
      "Improvements/step = 0.17957\n",
      "Total function evaluations = 7111\n",
      "\n",
      "\n",
      "Best candidate found: [1.49926, 0.999219, 3.00089, 1.00059]\n",
      "\n",
      "Fitness: 0.001326368\n",
      "\n"
     ]
    },
    {
     "data": {
      "text/plain": [
       "BlackBoxOptim.OptimizationResults(\"adaptive_de_rand_1_bin_radiuslimited\", \"Max number of steps (7000) reached\", 7001, 1.581108009213364e9, 1.2203562259674072, DictChain{Symbol,Any}[DictChain{Symbol,Any}[Dict{Symbol,Any}(:RngSeed => 544243,:SearchRange => Tuple{Float64,Float64}[(0.0, 10.0), (0.0, 10.0), (0.0, 10.0), (0.0, 10.0)],:MaxSteps => 7000),Dict{Symbol,Any}()],Dict{Symbol,Any}(:FitnessScheme => ScalarFitnessScheme{true}(),:NumDimensions => :NotSpecified,:PopulationSize => 50,:MaxTime => 0.0,:SearchRange => (-1.0, 1.0),:Method => :adaptive_de_rand_1_bin_radiuslimited,:MaxNumStepsWithoutFuncEvals => 100,:RngSeed => 1234,:MaxFuncEvals => 0,:SaveTrace => false…)], 7111, ScalarFitnessScheme{true}(), BlackBoxOptim.TopListArchiveOutput{Float64,Array{Float64,1}}(0.0013263680070317162, [1.4992579365902738, 0.9992188667402573, 3.000890094618177, 1.0005916508062738]), BlackBoxOptim.PopulationOptimizerOutput{FitPopulation{Float64}}(FitPopulation{Float64}([1.5032213442963274 1.5011736347919058 … 1.4950238762471566 1.5006272586149638; 1.0004748625214923 0.9982556905687239 … 0.9975561206960644 0.9976363030786773; 2.977220593774782 2.985757153403146 … 3.016794576268392 2.9867063903788287; 0.9938985559931057 0.9967930713869486 … 1.0062097976390063 0.9966858651614527], NaN, [0.023607451039886033, 0.01622536379530655, 0.022850862380482007, 0.024768846549468003, 0.03548204060303367, 0.030895104015212754, 0.010954549100586077, 0.017092337325030505, 0.02319360085575232, 0.010270658974800803  …  0.0053257574154448655, 0.002061433595897988, 0.0021064798460767127, 0.0013263680070317162, 0.018970129799279156, 0.011616090641513933, 0.01152290935399429, 0.03874878385655477, 0.025604640174206026, 0.017716101234046443], 0, BlackBoxOptim.Candidate{Float64}[BlackBoxOptim.Candidate{Float64}([1.5015081336107967, 1.0015133861606649, 2.994540969316979, 0.9979544607011653], 39, 0.0029996699846077312, BlackBoxOptim.AdaptiveDiffEvoRandBin{3}(BlackBoxOptim.AdaptiveDiffEvoParameters(BlackBoxOptim.BimodalCauchy(Distributions.Cauchy{Float64}(μ=0.65, σ=0.1), Distributions.Cauchy{Float64}(μ=1.0, σ=0.1), 0.5, false, true), BlackBoxOptim.BimodalCauchy(Distributions.Cauchy{Float64}(μ=0.1, σ=0.1), Distributions.Cauchy{Float64}(μ=0.95, σ=0.1), 0.5, false, true), [0.7202074342557561, 0.9054642389255726, 1.0, 1.0, 0.950017649043733, 0.39792196667577395, 0.8369628988991894, 0.34578007976644165, 0.4683561237999091, 0.9305501929988796  …  1.0, 0.6419403990689629, 1.0, 0.9883048519928194, 0.8558602764973449, 1.0, 0.6407214229274247, 0.5094459072934953, 0.7856184100539371, 1.0], [1.0, 0.044737123028642925, 0.5163921992528441, 0.16834963544008685, 0.16299267201467132, 0.20060526473557405, 0.263489604440874, 0.9074023220700713, 0.10422007898169083, 0.9376882431252322  …  0.15759503235937214, 0.8944105612608548, 0.11455690483022336, 0.7514472286805527, 0.0004757448737188058, 0.9537378050726754, 0.9096284640464786, 0.8476894310614702, 1.0, 1.0])), 0), BlackBoxOptim.Candidate{Float64}([1.5015081336107967, 1.0015133861606649, 2.994540969316979, 1.00488435753514], 39, 0.568508099706516, BlackBoxOptim.AdaptiveDiffEvoRandBin{3}(BlackBoxOptim.AdaptiveDiffEvoParameters(BlackBoxOptim.BimodalCauchy(Distributions.Cauchy{Float64}(μ=0.65, σ=0.1), Distributions.Cauchy{Float64}(μ=1.0, σ=0.1), 0.5, false, true), BlackBoxOptim.BimodalCauchy(Distributions.Cauchy{Float64}(μ=0.1, σ=0.1), Distributions.Cauchy{Float64}(μ=0.95, σ=0.1), 0.5, false, true), [0.7202074342557561, 0.9054642389255726, 1.0, 1.0, 0.950017649043733, 0.39792196667577395, 0.8369628988991894, 0.34578007976644165, 0.4683561237999091, 0.9305501929988796  …  1.0, 0.6419403990689629, 1.0, 0.9883048519928194, 0.8558602764973449, 1.0, 0.6407214229274247, 0.5094459072934953, 0.7856184100539371, 1.0], [1.0, 0.044737123028642925, 0.5163921992528441, 0.16834963544008685, 0.16299267201467132, 0.20060526473557405, 0.263489604440874, 0.9074023220700713, 0.10422007898169083, 0.9376882431252322  …  0.15759503235937214, 0.8944105612608548, 0.11455690483022336, 0.7514472286805527, 0.0004757448737188058, 0.9537378050726754, 0.9096284640464786, 0.8476894310614702, 1.0, 1.0])), 0)])))"
      ]
     },
     "execution_count": 11,
     "metadata": {},
     "output_type": "execute_result"
    }
   ],
   "source": [
    "# Lower tolerance could lead to smaller fitness (more accuracy)\n",
    "obj_short = build_loss_objective(prob_short,Tsit5(),\n",
    "    L2Loss(t_short,data_short),tstops=t_short,reltol=1e-9)\n",
    "res1 = bboptimize(obj_short;SearchRange = glo_bounds, MaxSteps = 7e3)\n"
   ]
  },
  {
   "cell_type": "code",
   "execution_count": 12,
   "metadata": {},
   "outputs": [
    {
     "name": "stdout",
     "output_type": "stream",
     "text": [
      "Starting optimization with optimizer DiffEvoOpt{FitPopulation{Float64},RadiusLimitedSelector,BlackBoxOptim.AdaptiveDiffEvoRandBin{3},RandomBound{ContinuousRectSearchSpace}}\n",
      "0.00 secs, 0 evals, 0 steps\n",
      "0.50 secs, 1886 evals, 1734 steps, improv/step: 0.180 (last = 0.1799), fitness=322.844016864\n",
      "1.00 secs, 3840 evals, 3688 steps, improv/step: 0.169 (last = 0.1592), fitness=6.898051322\n",
      "1.50 secs, 5860 evals, 5708 steps, improv/step: 0.166 (last = 0.1609), fitness=0.096042652\n",
      "\n",
      "Optimization stopped after 7001 steps and 1.81 seconds\n",
      "Termination reason: Max number of steps (7000) reached\n",
      "Steps per second = 3861.26\n",
      "Function evals per second = 3944.54\n",
      "Improvements/step = 0.16486\n",
      "Total function evaluations = 7152\n",
      "\n",
      "\n",
      "Best candidate found: [1.49914, 0.998916, 3.00607, 1.00142]\n",
      "\n",
      "Fitness: 0.006304656\n",
      "\n"
     ]
    },
    {
     "data": {
      "text/plain": [
       "BlackBoxOptim.OptimizationResults(\"adaptive_de_rand_1_bin_radiuslimited\", \"Max number of steps (7000) reached\", 7001, 1.581108052003552e9, 1.8131389617919922, DictChain{Symbol,Any}[DictChain{Symbol,Any}[Dict{Symbol,Any}(:RngSeed => 238329,:SearchRange => Tuple{Float64,Float64}[(0.0, 10.0), (0.0, 10.0), (0.0, 10.0), (0.0, 10.0)],:MaxSteps => 7000),Dict{Symbol,Any}()],Dict{Symbol,Any}(:FitnessScheme => ScalarFitnessScheme{true}(),:NumDimensions => :NotSpecified,:PopulationSize => 50,:MaxTime => 0.0,:SearchRange => (-1.0, 1.0),:Method => :adaptive_de_rand_1_bin_radiuslimited,:MaxNumStepsWithoutFuncEvals => 100,:RngSeed => 1234,:MaxFuncEvals => 0,:SaveTrace => false…)], 7152, ScalarFitnessScheme{true}(), BlackBoxOptim.TopListArchiveOutput{Float64,Array{Float64,1}}(0.0063046560004597725, [1.4991446516388822, 0.9989155244519075, 3.006072461825817, 1.0014182171755763]), BlackBoxOptim.PopulationOptimizerOutput{FitPopulation{Float64}}(FitPopulation{Float64}([1.4957381174718152 1.4938089897541749 … 1.4984800597744306 1.4997590550112851; 0.9957764447660844 0.9913732973803445 … 0.9943883711344625 0.9986016154132232; 3.000328011776565 3.016299494434162 … 2.9954194309481808 2.9916772240989356; 1.0017639683135315 1.0058876986186704 … 0.9992811245448967 0.9981674867433973], NaN, [0.08813584106212369, 0.08104308813781404, 0.08008780504615474, 0.07897673228339046, 0.025472396939500073, 0.1858971169959964, 0.18197932753675453, 0.21010188511296105, 0.03994604132475294, 0.14483728431560589  …  0.08412011581000282, 0.024657454578107453, 0.032833131850999356, 0.011835394800957728, 0.041344394876273366, 0.09861813416101711, 0.01925316279098956, 0.06109446357071257, 0.03724301726401655, 0.017575156107123107], 0, BlackBoxOptim.Candidate{Float64}[BlackBoxOptim.Candidate{Float64}([1.4999784949194315, 0.9960025917160159, 2.9940935783025773, 0.9984850631662349], 42, 0.024657454578107453, BlackBoxOptim.AdaptiveDiffEvoRandBin{3}(BlackBoxOptim.AdaptiveDiffEvoParameters(BlackBoxOptim.BimodalCauchy(Distributions.Cauchy{Float64}(μ=0.65, σ=0.1), Distributions.Cauchy{Float64}(μ=1.0, σ=0.1), 0.5, false, true), BlackBoxOptim.BimodalCauchy(Distributions.Cauchy{Float64}(μ=0.1, σ=0.1), Distributions.Cauchy{Float64}(μ=0.95, σ=0.1), 0.5, false, true), [0.8939548856746405, 0.40548871039270784, 0.4505491898854811, 1.0, 0.920485437131323, 0.19378216622662248, 1.0, 1.0, 0.9171205200761653, 1.0  …  0.9042710025237422, 0.7085391824258247, 0.6977536670463288, 1.0, 0.5278120527611709, 0.9156181881614622, 0.18359184089971925, 0.7027102849857418, 0.612946328025974, 0.5562109492981491], [1.0, 0.9676461451803049, 0.9275606418017815, 0.12220322631633532, 0.6723327367257614, 0.8307509488447459, 0.35644662528531945, 0.2668010564645521, 1.0, 0.01779448565027511  …  0.16594552024842102, 1.0, 1.0, 0.7337559277659422, 1.0, 0.20263106410320714, 1.0, 1.0, 0.9061100601382416, 0.3352858470240503])), 0), BlackBoxOptim.Candidate{Float64}([1.4981797866063842, 0.9949719512712063, 2.994114407079829, 0.9997365583853913], 42, 0.03486962295576395, BlackBoxOptim.AdaptiveDiffEvoRandBin{3}(BlackBoxOptim.AdaptiveDiffEvoParameters(BlackBoxOptim.BimodalCauchy(Distributions.Cauchy{Float64}(μ=0.65, σ=0.1), Distributions.Cauchy{Float64}(μ=1.0, σ=0.1), 0.5, false, true), BlackBoxOptim.BimodalCauchy(Distributions.Cauchy{Float64}(μ=0.1, σ=0.1), Distributions.Cauchy{Float64}(μ=0.95, σ=0.1), 0.5, false, true), [0.8939548856746405, 0.40548871039270784, 0.4505491898854811, 1.0, 0.920485437131323, 0.19378216622662248, 1.0, 1.0, 0.9171205200761653, 1.0  …  0.9042710025237422, 0.7085391824258247, 0.6977536670463288, 1.0, 0.5278120527611709, 0.9156181881614622, 0.18359184089971925, 0.7027102849857418, 0.612946328025974, 0.5562109492981491], [1.0, 0.9676461451803049, 0.9275606418017815, 0.12220322631633532, 0.6723327367257614, 0.8307509488447459, 0.35644662528531945, 0.2668010564645521, 1.0, 0.01779448565027511  …  0.16594552024842102, 1.0, 1.0, 0.7337559277659422, 1.0, 0.20263106410320714, 1.0, 1.0, 0.9061100601382416, 0.3352858470240503])), 0)])))"
      ]
     },
     "execution_count": 12,
     "metadata": {},
     "output_type": "execute_result"
    }
   ],
   "source": [
    "# Change in tolerance makes it worse\n",
    "obj_short = build_loss_objective(prob_short,Vern9(),\n",
    "    L2Loss(t_short,data_short),tstops=t_short,reltol=1e-9,abstol=1e-9)\n",
    "res1 = bboptimize(obj_short;SearchRange = glo_bounds, MaxSteps = 7e3)"
   ]
  },
  {
   "cell_type": "markdown",
   "metadata": {},
   "source": [
    "## Using NLopt\n",
    "### Global Optimisation first"
   ]
  },
  {
   "cell_type": "code",
   "execution_count": 13,
   "metadata": {},
   "outputs": [
    {
     "data": {
      "text/plain": [
       "(::DiffEqObjective{DiffEqParamEstim.var\"#43#48\"{Nothing,Bool,Int64,typeof(DiffEqParamEstim.STANDARD_PROB_GENERATOR),Base.Iterators.Pairs{Symbol,Any,Tuple{Symbol,Symbol,Symbol},NamedTuple{(:tstops, :reltol, :abstol),Tuple{Array{Float64,1},Float64,Float64}}},ODEProblem{Array{Float64,1},Tuple{Float64,Float64},true,Array{Float64,1},LotkaVolterraTest{var\"#7#11\",var\"#8#12\",var\"#9#13\",Nothing,Nothing,var\"#10#14\",Expr,Expr},Base.Iterators.Pairs{Union{},Union{},Tuple{},NamedTuple{,Tuple{}}},DiffEqBase.StandardODEProblem},Vern9,L2Loss{Array{Float64,1},Array{Float64,2},Nothing,Nothing,Nothing},Nothing},DiffEqParamEstim.var\"#47#53\"{DiffEqParamEstim.var\"#43#48\"{Nothing,Bool,Int64,typeof(DiffEqParamEstim.STANDARD_PROB_GENERATOR),Base.Iterators.Pairs{Symbol,Any,Tuple{Symbol,Symbol,Symbol},NamedTuple{(:tstops, :reltol, :abstol),Tuple{Array{Float64,1},Float64,Float64}}},ODEProblem{Array{Float64,1},Tuple{Float64,Float64},true,Array{Float64,1},LotkaVolterraTest{var\"#7#11\",var\"#8#12\",var\"#9#13\",Nothing,Nothing,var\"#10#14\",Expr,Expr},Base.Iterators.Pairs{Union{},Union{},Tuple{},NamedTuple{,Tuple{}}},DiffEqBase.StandardODEProblem},Vern9,L2Loss{Array{Float64,1},Array{Float64,2},Nothing,Nothing,Nothing},Nothing}}}) (generic function with 2 methods)"
      ]
     },
     "execution_count": 13,
     "metadata": {},
     "output_type": "execute_result"
    }
   ],
   "source": [
    "obj_short = build_loss_objective(prob_short,Vern9(),\n",
    "    L2Loss(t_short,data_short),tstops=t_short,reltol=1e-9,abstol=1e-9)\n"
   ]
  },
  {
   "cell_type": "code",
   "execution_count": 14,
   "metadata": {},
   "outputs": [
    {
     "name": "stdout",
     "output_type": "stream",
     "text": [
      "  0.947067 seconds (1.60 M allocations: 378.689 MiB, 5.65% gc time)\n"
     ]
    },
    {
     "data": {
      "text/plain": [
       "(368.38768828453067, [1.7283950617224937, 2.22222222222419, 3.580246913586148, 1.1172077427280471], :XTOL_REACHED)"
      ]
     },
     "execution_count": 14,
     "metadata": {},
     "output_type": "execute_result"
    }
   ],
   "source": [
    "opt = Opt(:GN_ORIG_DIRECT_L, 4)\n",
    "lower_bounds!(opt,[0.0,0.0,0.0,0.0])\n",
    "upper_bounds!(opt,[10.0,10.0,10.0,10.0])\n",
    "min_objective!(opt, obj_short.cost_function2)\n",
    "xtol_rel!(opt,1e-12)\n",
    "maxeval!(opt, 10000)\n",
    "@time (minf,minx,ret) = NLopt.optimize(opt,glo_init)"
   ]
  },
  {
   "cell_type": "code",
   "execution_count": 15,
   "metadata": {},
   "outputs": [
    {
     "name": "stderr",
     "output_type": "stream",
     "text": [
      "┌ Warning: dt <= dtmin. Aborting. There is either an error in your model specification or the true solution is unstable.\n",
      "└ @ DiffEqBase /home/seneryilmaz/.julia/packages/DiffEqBase/cwiDm/src/integrator_interface.jl:333\n",
      "┌ Warning: dt <= dtmin. Aborting. There is either an error in your model specification or the true solution is unstable.\n",
      "└ @ DiffEqBase /home/seneryilmaz/.julia/packages/DiffEqBase/cwiDm/src/integrator_interface.jl:333\n",
      "┌ Warning: dt <= dtmin. Aborting. There is either an error in your model specification or the true solution is unstable.\n",
      "└ @ DiffEqBase /home/seneryilmaz/.julia/packages/DiffEqBase/cwiDm/src/integrator_interface.jl:333\n",
      "┌ Warning: dt <= dtmin. Aborting. There is either an error in your model specification or the true solution is unstable.\n",
      "└ @ DiffEqBase /home/seneryilmaz/.julia/packages/DiffEqBase/cwiDm/src/integrator_interface.jl:333\n",
      "┌ Warning: dt <= dtmin. Aborting. There is either an error in your model specification or the true solution is unstable.\n",
      "└ @ DiffEqBase /home/seneryilmaz/.julia/packages/DiffEqBase/cwiDm/src/integrator_interface.jl:333\n"
     ]
    },
    {
     "name": "stdout",
     "output_type": "stream",
     "text": [
      "  1.834034 seconds (3.03 M allocations: 719.801 MiB, 4.78% gc time)\n"
     ]
    },
    {
     "data": {
      "text/plain": [
       "(1.666099217372899e-16, [1.5000000000697395, 1.0000000000846163, 2.9999999995098863, 0.9999999999261484], :XTOL_REACHED)"
      ]
     },
     "execution_count": 15,
     "metadata": {},
     "output_type": "execute_result"
    }
   ],
   "source": [
    "opt = Opt(:GN_CRS2_LM, 4)\n",
    "lower_bounds!(opt,[0.0,0.0,0.0,0.0])\n",
    "upper_bounds!(opt,[10.0,10.0,10.0,10.0])\n",
    "min_objective!(opt, obj_short.cost_function2)\n",
    "xtol_rel!(opt,1e-12)\n",
    "maxeval!(opt, 10000)\n",
    "@time (minf,minx,ret) = NLopt.optimize(opt,glo_init)"
   ]
  },
  {
   "cell_type": "code",
   "execution_count": 16,
   "metadata": {},
   "outputs": [
    {
     "name": "stdout",
     "output_type": "stream",
     "text": [
      "  2.329903 seconds (3.98 M allocations: 964.432 MiB, 4.15% gc time)\n"
     ]
    },
    {
     "data": {
      "text/plain": [
       "(30.260973691979732, [1.4928153196422589, 1.1451947996343592, 3.322986519969529, 1.0577924439438486], :MAXEVAL_REACHED)"
      ]
     },
     "execution_count": 16,
     "metadata": {},
     "output_type": "execute_result"
    }
   ],
   "source": [
    "opt = Opt(:GN_ISRES, 4)\n",
    "lower_bounds!(opt,[0.0,0.0,0.0,0.0])\n",
    "upper_bounds!(opt,[10.0,10.0,10.0,10.0])\n",
    "min_objective!(opt, obj_short.cost_function2)\n",
    "xtol_rel!(opt,1e-12)\n",
    "maxeval!(opt, 10000)\n",
    "@time (minf,minx,ret) = NLopt.optimize(opt,glo_init)"
   ]
  },
  {
   "cell_type": "code",
   "execution_count": 17,
   "metadata": {},
   "outputs": [
    {
     "name": "stdout",
     "output_type": "stream",
     "text": [
      "  2.322283 seconds (3.98 M allocations: 964.432 MiB, 4.64% gc time)\n"
     ]
    },
    {
     "data": {
      "text/plain": [
       "(106.94833228990282, [1.2256032528934453, 1.0003155226678273, 5.197714574490526, 1.7538044975162155], :MAXEVAL_REACHED)"
      ]
     },
     "execution_count": 17,
     "metadata": {},
     "output_type": "execute_result"
    }
   ],
   "source": [
    "opt = Opt(:GN_ESCH, 4)\n",
    "lower_bounds!(opt,[0.0,0.0,0.0,0.0])\n",
    "upper_bounds!(opt,[10.0,10.0,10.0,10.0])\n",
    "min_objective!(opt, obj_short.cost_function2)\n",
    "xtol_rel!(opt,1e-12)\n",
    "maxeval!(opt, 10000)\n",
    "@time (minf,minx,ret) = NLopt.optimize(opt,glo_init)\n"
   ]
  },
  {
   "cell_type": "markdown",
   "metadata": {},
   "source": [
    "Now local optimization algorithms are used to check the global ones, these use the local constraints, different intial values and time step\n",
    "\n"
   ]
  },
  {
   "cell_type": "code",
   "execution_count": 18,
   "metadata": {},
   "outputs": [
    {
     "name": "stdout",
     "output_type": "stream",
     "text": [
      "  0.094933 seconds (145.40 k allocations: 34.194 MiB)\n"
     ]
    },
    {
     "data": {
      "text/plain": [
       "(1.6660922429170482e-16, [1.5000000000702367, 1.0000000000848144, 2.99999999950844, 0.9999999999254128], :XTOL_REACHED)"
      ]
     },
     "execution_count": 18,
     "metadata": {},
     "output_type": "execute_result"
    }
   ],
   "source": [
    "opt = Opt(:LN_BOBYQA, 4)\n",
    "lower_bounds!(opt,[0.0,0.0,0.0,0.0])\n",
    "upper_bounds!(opt,[5.0,5.0,5.0,5.0])\n",
    "min_objective!(opt, obj_short.cost_function2)\n",
    "xtol_rel!(opt,1e-12)\n",
    "maxeval!(opt, 10000)\n",
    "@time (minf,minx,ret) = NLopt.optimize(opt,loc_init)"
   ]
  },
  {
   "cell_type": "code",
   "execution_count": 19,
   "metadata": {},
   "outputs": [
    {
     "name": "stdout",
     "output_type": "stream",
     "text": [
      "  0.114419 seconds (199.41 k allocations: 48.319 MiB)\n"
     ]
    },
    {
     "data": {
      "text/plain": [
       "(1.6660944512259585e-16, [1.5000000000705116, 1.0000000000852818, 2.999999999507228, 0.9999999999250377], :XTOL_REACHED)"
      ]
     },
     "execution_count": 19,
     "metadata": {},
     "output_type": "execute_result"
    }
   ],
   "source": [
    "opt = Opt(:LN_NELDERMEAD, 4)\n",
    "lower_bounds!(opt,[0.0,0.0,0.0,0.0])\n",
    "upper_bounds!(opt,[5.0,5.0,5.0,5.0])\n",
    "min_objective!(opt, obj_short.cost_function2)\n",
    "xtol_rel!(opt,1e-12)\n",
    "maxeval!(opt, 10000)\n",
    "@time (minf,minx,ret) = NLopt.optimize(opt,loc_init)"
   ]
  },
  {
   "cell_type": "code",
   "execution_count": 20,
   "metadata": {},
   "outputs": [
    {
     "name": "stdout",
     "output_type": "stream",
     "text": [
      "  0.122969 seconds (213.09 k allocations: 31.696 MiB, 15.91% gc time)\n"
     ]
    },
    {
     "data": {
      "text/plain": [
       "(4.192517461011093e-16, [1.4999999996827051, 1.000000000171298, 3.000000002088608, 1.0000000007284293], :XTOL_REACHED)"
      ]
     },
     "execution_count": 20,
     "metadata": {},
     "output_type": "execute_result"
    }
   ],
   "source": [
    "opt = Opt(:LD_SLSQP, 4)\n",
    "lower_bounds!(opt,[0.0,0.0,0.0,0.0])\n",
    "upper_bounds!(opt,[5.0,5.0,5.0,5.0])\n",
    "min_objective!(opt, obj_short.cost_function2)\n",
    "xtol_rel!(opt,1e-12)\n",
    "maxeval!(opt, 10000)\n",
    "@time (minf,minx,ret) = NLopt.optimize(opt,loc_init)"
   ]
  },
  {
   "cell_type": "code",
   "execution_count": 21,
   "metadata": {},
   "outputs": [
    {
     "name": "stdout",
     "output_type": "stream",
     "text": [
      "  2.301789 seconds (3.98 M allocations: 964.432 MiB, 4.31% gc time)\n"
     ]
    },
    {
     "data": {
      "text/plain": [
       "(2.095834367163097e-10, [1.4999994892072248, 0.999999852720916, 3.000002650119225, 1.0000008332818766], :MAXEVAL_REACHED)"
      ]
     },
     "execution_count": 21,
     "metadata": {},
     "output_type": "execute_result"
    }
   ],
   "source": [
    "opt = Opt(:LN_COBYLA, 4)\n",
    "lower_bounds!(opt,[0.0,0.0,0.0,0.0])\n",
    "upper_bounds!(opt,[5.0,5.0,5.0,5.0])\n",
    "min_objective!(opt, obj_short.cost_function2)\n",
    "xtol_rel!(opt,1e-12)\n",
    "maxeval!(opt, 10000)\n",
    "@time (minf,minx,ret) = NLopt.optimize(opt,loc_init)"
   ]
  },
  {
   "cell_type": "code",
   "execution_count": 22,
   "metadata": {},
   "outputs": [
    {
     "name": "stdout",
     "output_type": "stream",
     "text": [
      "  0.310953 seconds (90.76 k allocations: 21.990 MiB)\n"
     ]
    },
    {
     "data": {
      "text/plain": [
       "(1.974260823257644e-9, [1.5000002678499593, 1.0000012766604875, 3.0000011082750206, 1.0000001048380573], :SUCCESS)"
      ]
     },
     "execution_count": 22,
     "metadata": {},
     "output_type": "execute_result"
    }
   ],
   "source": [
    "opt = Opt(:LN_NEWUOA_BOUND, 4)\n",
    "lower_bounds!(opt,[0.0,0.0,0.0,0.0])\n",
    "upper_bounds!(opt,[5.0,5.0,5.0,5.0])\n",
    "min_objective!(opt, obj_short.cost_function2)\n",
    "xtol_rel!(opt,1e-12)\n",
    "maxeval!(opt, 10000)\n",
    "@time (minf,minx,ret) = NLopt.optimize(opt,loc_init)"
   ]
  },
  {
   "cell_type": "code",
   "execution_count": 23,
   "metadata": {},
   "outputs": [
    {
     "name": "stdout",
     "output_type": "stream",
     "text": [
      "  0.063451 seconds (85.58 k allocations: 20.736 MiB)\n"
     ]
    },
    {
     "data": {
      "text/plain": [
       "(1.6936005316510485e-16, [1.5000000000744644, 1.0000000001306948, 2.999999999594481, 0.999999999944931], :SUCCESS)"
      ]
     },
     "execution_count": 23,
     "metadata": {},
     "output_type": "execute_result"
    }
   ],
   "source": [
    "opt = Opt(:LN_PRAXIS, 4)\n",
    "lower_bounds!(opt,[0.0,0.0,0.0,0.0])\n",
    "upper_bounds!(opt,[5.0,5.0,5.0,5.0])\n",
    "min_objective!(opt, obj_short.cost_function2)\n",
    "xtol_rel!(opt,1e-12)\n",
    "maxeval!(opt, 10000)\n",
    "@time (minf,minx,ret) = NLopt.optimize(opt,loc_init)\n"
   ]
  },
  {
   "cell_type": "code",
   "execution_count": 24,
   "metadata": {},
   "outputs": [
    {
     "name": "stdout",
     "output_type": "stream",
     "text": [
      "  2.312187 seconds (3.98 M allocations: 964.432 MiB, 4.22% gc time)\n"
     ]
    },
    {
     "data": {
      "text/plain": [
       "(3.857624483455275e-12, [1.4999999301104459, 0.9999999814386067, 3.000000353466034, 1.0000001103210938], :MAXEVAL_REACHED)"
      ]
     },
     "execution_count": 24,
     "metadata": {},
     "output_type": "execute_result"
    }
   ],
   "source": [
    "opt = Opt(:LN_SBPLX, 4)\n",
    "lower_bounds!(opt,[0.0,0.0,0.0,0.0])\n",
    "upper_bounds!(opt,[5.0,5.0,5.0,5.0])\n",
    "min_objective!(opt, obj_short.cost_function2)\n",
    "xtol_rel!(opt,1e-12)\n",
    "maxeval!(opt, 10000)\n",
    "@time (minf,minx,ret) = NLopt.optimize(opt,loc_init)"
   ]
  },
  {
   "cell_type": "code",
   "execution_count": 25,
   "metadata": {},
   "outputs": [
    {
     "name": "stdout",
     "output_type": "stream",
     "text": [
      "  4.688225 seconds (7.86 M allocations: 1.874 GiB, 4.34% gc time)\n"
     ]
    },
    {
     "data": {
      "text/plain": [
       "(6.678300918709951e-15, [1.4999999973062776, 0.9999999994973329, 3.0000000143108423, 1.0000000046124624], :XTOL_REACHED)"
      ]
     },
     "execution_count": 25,
     "metadata": {},
     "output_type": "execute_result"
    }
   ],
   "source": [
    "opt = Opt(:LD_MMA, 4)\n",
    "lower_bounds!(opt,[0.0,0.0,0.0,0.0])\n",
    "upper_bounds!(opt,[5.0,5.0,5.0,5.0])\n",
    "min_objective!(opt, obj_short.cost_function2)\n",
    "xtol_rel!(opt,1e-12)\n",
    "maxeval!(opt, 10000)\n",
    "@time (minf,minx,ret) = NLopt.optimize(opt,loc_init)"
   ]
  },
  {
   "cell_type": "code",
   "execution_count": 26,
   "metadata": {},
   "outputs": [
    {
     "name": "stdout",
     "output_type": "stream",
     "text": [
      "  0.097202 seconds (142.09 k allocations: 34.685 MiB)\n"
     ]
    },
    {
     "data": {
      "text/plain": [
       "(4.192393249865537e-16, [1.4999999996827114, 1.0000000001712928, 3.000000002088565, 1.0000000007284133], :SUCCESS)"
      ]
     },
     "execution_count": 26,
     "metadata": {},
     "output_type": "execute_result"
    }
   ],
   "source": [
    "opt = Opt(:LD_TNEWTON_PRECOND_RESTART, 4)\n",
    "lower_bounds!(opt,[0.0,0.0,0.0,0.0])\n",
    "upper_bounds!(opt,[5.0,5.0,5.0,5.0])\n",
    "min_objective!(opt, obj_short.cost_function2)\n",
    "xtol_rel!(opt,1e-12)\n",
    "maxeval!(opt, 10000)\n",
    "@time (minf,minx,ret) = NLopt.optimize(opt,loc_init)"
   ]
  },
  {
   "cell_type": "markdown",
   "metadata": {},
   "source": [
    "## Now the longer problem is solved for a global solution\n",
    "Vern9 solver with reltol=1e-9 and abstol=1e-9 is used and the dataset is increased to 3000 observations per variable with the same integration time step of 0.01."
   ]
  },
  {
   "cell_type": "code",
   "execution_count": 27,
   "metadata": {},
   "outputs": [
    {
     "name": "stdout",
     "output_type": "stream",
     "text": [
      "Starting optimization with optimizer DiffEvoOpt{FitPopulation{Float64},RadiusLimitedSelector,BlackBoxOptim.AdaptiveDiffEvoRandBin{3},RandomBound{ContinuousRectSearchSpace}}\n",
      "0.00 secs, 0 evals, 0 steps\n",
      "0.50 secs, 219 evals, 148 steps, improv/step: 0.527 (last = 0.5270), fitness=24635.969861628\n",
      "1.00 secs, 459 evals, 372 steps, improv/step: 0.339 (last = 0.2143), fitness=23072.188322578\n",
      "1.51 secs, 688 evals, 595 steps, improv/step: 0.303 (last = 0.2422), fitness=23072.188322578\n",
      "2.01 secs, 922 evals, 829 steps, improv/step: 0.248 (last = 0.1111), fitness=23072.188322578\n",
      "2.51 secs, 1146 evals, 1053 steps, improv/step: 0.235 (last = 0.1830), fitness=23072.188322578\n",
      "3.01 secs, 1378 evals, 1285 steps, improv/step: 0.212 (last = 0.1121), fitness=23072.188322578\n",
      "3.51 secs, 1613 evals, 1520 steps, improv/step: 0.200 (last = 0.1319), fitness=23072.188322578\n",
      "4.01 secs, 1843 evals, 1750 steps, improv/step: 0.185 (last = 0.0870), fitness=21968.631505533\n",
      "4.51 secs, 2083 evals, 1991 steps, improv/step: 0.172 (last = 0.0747), fitness=21471.975096299\n",
      "5.01 secs, 2309 evals, 2219 steps, improv/step: 0.163 (last = 0.0877), fitness=21471.975096299\n",
      "5.51 secs, 2546 evals, 2456 steps, improv/step: 0.154 (last = 0.0717), fitness=16837.363082110\n",
      "6.02 secs, 2769 evals, 2679 steps, improv/step: 0.149 (last = 0.0942), fitness=12284.230180224\n",
      "6.52 secs, 2998 evals, 2909 steps, improv/step: 0.144 (last = 0.0783), fitness=12284.230180224\n",
      "7.02 secs, 3225 evals, 3136 steps, improv/step: 0.138 (last = 0.0705), fitness=12284.230180224\n",
      "7.52 secs, 3463 evals, 3374 steps, improv/step: 0.135 (last = 0.0924), fitness=12284.230180224\n",
      "8.02 secs, 3694 evals, 3605 steps, improv/step: 0.133 (last = 0.0996), fitness=5472.270414134\n",
      "8.52 secs, 3929 evals, 3840 steps, improv/step: 0.132 (last = 0.1149), fitness=5215.684634236\n",
      "\n",
      "Optimization stopped after 4001 steps and 8.87 seconds\n",
      "Termination reason: Max number of steps (4000) reached\n",
      "Steps per second = 450.89\n",
      "Function evals per second = 460.92\n",
      "Improvements/step = 0.13000\n",
      "Total function evaluations = 4090\n",
      "\n",
      "\n",
      "Best candidate found: [4.32756, 4.31475, 0.907591, 0.277697]\n",
      "\n",
      "Fitness: 5215.684634236\n",
      "\n"
     ]
    },
    {
     "data": {
      "text/plain": [
       "BlackBoxOptim.OptimizationResults(\"adaptive_de_rand_1_bin_radiuslimited\", \"Max number of steps (4000) reached\", 4001, 1.581108607245036e9, 8.87353801727295, DictChain{Symbol,Any}[DictChain{Symbol,Any}[Dict{Symbol,Any}(:RngSeed => 276522,:SearchRange => Tuple{Float64,Float64}[(0.0, 10.0), (0.0, 10.0), (0.0, 10.0), (0.0, 10.0)],:MaxSteps => 4000),Dict{Symbol,Any}()],Dict{Symbol,Any}(:FitnessScheme => ScalarFitnessScheme{true}(),:NumDimensions => :NotSpecified,:PopulationSize => 50,:MaxTime => 0.0,:SearchRange => (-1.0, 1.0),:Method => :adaptive_de_rand_1_bin_radiuslimited,:MaxNumStepsWithoutFuncEvals => 100,:RngSeed => 1234,:MaxFuncEvals => 0,:SaveTrace => false…)], 4090, ScalarFitnessScheme{true}(), BlackBoxOptim.TopListArchiveOutput{Float64,Array{Float64,1}}(5215.684634236345, [4.327559418847416, 4.314746537440885, 0.9075910457369962, 0.2776965005336708]), BlackBoxOptim.PopulationOptimizerOutput{FitPopulation{Float64}}(FitPopulation{Float64}([7.383302295714708 8.450066015365778 … 7.072475486680238 7.734675268522463; 6.502030749240489 8.10433282198794 … 7.13846095267528 7.591430793486373; 2.12437862814852 7.327435755047756 … 4.706069393238145 4.371268264613842; 0.926736561548996 3.5177627341522015 … 2.249511753653153 1.8749642223813483], NaN, [22439.847573024257, 23585.421323667193, 23762.001514279724, 23785.062462253798, 23292.579286674423, 23422.88818767515, 20904.159760519404, 21897.716975640033, 22777.224997871122, 21260.788145019214  …  21069.310963776723, 21120.05368267777, 21118.959978494702, 21054.18915664893, 21156.167025181832, 22957.16702283782, 22974.70291176396, 23128.145220408755, 23016.398116755932, 23351.97739711243], 0, BlackBoxOptim.Candidate{Float64}[BlackBoxOptim.Candidate{Float64}([3.3079585260624955, 2.813577815006169, 4.80702045990987, 2.6677896835873027], 26, 22434.557379989237, BlackBoxOptim.AdaptiveDiffEvoRandBin{3}(BlackBoxOptim.AdaptiveDiffEvoParameters(BlackBoxOptim.BimodalCauchy(Distributions.Cauchy{Float64}(μ=0.65, σ=0.1), Distributions.Cauchy{Float64}(μ=1.0, σ=0.1), 0.5, false, true), BlackBoxOptim.BimodalCauchy(Distributions.Cauchy{Float64}(μ=0.1, σ=0.1), Distributions.Cauchy{Float64}(μ=0.95, σ=0.1), 0.5, false, true), [0.9948006343853709, 1.0, 0.7041192036906584, 1.0, 0.6697230398996367, 0.4959068978864367, 0.7922088588831653, 0.6593099822495262, 1.0, 0.8343583262844767  …  0.7485625232134406, 0.8293606347166849, 0.775724228516215, 1.0, 0.49137188650004093, 0.45878724138246224, 1.0, 1.0, 1.0, 1.0], [0.05620807826860627, 0.016649193350294883, 0.09646665808529392, 1.0, 0.08468415856233386, 0.9238270585020794, 0.8396191518695628, 0.8498067818741994, 0.05854927023521817, 0.7345158301260644  …  1.0, 1.0, 0.17857698254415508, 0.9089419578512289, 0.8205773068875506, 0.06722691858356505, 1.0, 0.6995124369935237, 0.8616969722361649, 0.03984376702405971])), 0), BlackBoxOptim.Candidate{Float64}([1.06178320072916, 2.241865198790393, 4.80702045990987, 3.043899373147714], 26, 28921.505638488597, BlackBoxOptim.AdaptiveDiffEvoRandBin{3}(BlackBoxOptim.AdaptiveDiffEvoParameters(BlackBoxOptim.BimodalCauchy(Distributions.Cauchy{Float64}(μ=0.65, σ=0.1), Distributions.Cauchy{Float64}(μ=1.0, σ=0.1), 0.5, false, true), BlackBoxOptim.BimodalCauchy(Distributions.Cauchy{Float64}(μ=0.1, σ=0.1), Distributions.Cauchy{Float64}(μ=0.95, σ=0.1), 0.5, false, true), [0.9948006343853709, 1.0, 0.7041192036906584, 1.0, 0.6697230398996367, 0.4959068978864367, 0.7922088588831653, 0.6593099822495262, 1.0, 0.8343583262844767  …  0.7485625232134406, 0.8293606347166849, 0.775724228516215, 1.0, 0.49137188650004093, 0.45878724138246224, 1.0, 1.0, 1.0, 1.0], [0.05620807826860627, 0.016649193350294883, 0.09646665808529392, 1.0, 0.08468415856233386, 0.9238270585020794, 0.8396191518695628, 0.8498067818741994, 0.05854927023521817, 0.7345158301260644  …  1.0, 1.0, 0.17857698254415508, 0.9089419578512289, 0.8205773068875506, 0.06722691858356505, 1.0, 0.6995124369935237, 0.8616969722361649, 0.03984376702405971])), 0)])))"
      ]
     },
     "execution_count": 27,
     "metadata": {},
     "output_type": "execute_result"
    }
   ],
   "source": [
    "obj = build_loss_objective(prob,Vern9(),L2Loss(t,data),\n",
    "    tstops=t,reltol=1e-9,abstol=1e-9)\n",
    "res1 = bboptimize(obj;SearchRange = glo_bounds, MaxSteps = 4e3)"
   ]
  },
  {
   "cell_type": "code",
   "execution_count": 28,
   "metadata": {},
   "outputs": [
    {
     "name": "stdout",
     "output_type": "stream",
     "text": [
      "  4.463815 seconds (6.51 M allocations: 1.578 GiB, 3.31% gc time)\n"
     ]
    },
    {
     "data": {
      "text/plain": [
       "(23525.885834891702, [8.271604938277504, 7.421124828514532, 7.402834933693231, 3.7037037037056706], :XTOL_REACHED)"
      ]
     },
     "execution_count": 28,
     "metadata": {},
     "output_type": "execute_result"
    }
   ],
   "source": [
    "opt = Opt(:GN_ORIG_DIRECT_L, 4)\n",
    "lower_bounds!(opt,[0.0,0.0,0.0,0.0])\n",
    "upper_bounds!(opt,[10.0,10.0,10.0,10.0])\n",
    "min_objective!(opt, obj.cost_function2)\n",
    "xtol_rel!(opt,1e-12)\n",
    "maxeval!(opt, 10000)\n",
    "@time (minf,minx,ret) = NLopt.optimize(opt,glo_init)"
   ]
  },
  {
   "cell_type": "code",
   "execution_count": 29,
   "metadata": {},
   "outputs": [
    {
     "name": "stderr",
     "output_type": "stream",
     "text": [
      "┌ Warning: dt <= dtmin. Aborting. There is either an error in your model specification or the true solution is unstable.\n",
      "└ @ DiffEqBase /home/seneryilmaz/.julia/packages/DiffEqBase/cwiDm/src/integrator_interface.jl:333\n"
     ]
    },
    {
     "name": "stdout",
     "output_type": "stream",
     "text": [
      " 42.308337 seconds (62.16 M allocations: 15.075 GiB, 3.06% gc time)\n"
     ]
    },
    {
     "data": {
      "text/plain": [
       "(23364.367168817444, [9.999999999999822, 9.111019864495368, 6.0946296461226215, 2.950814594390695], :MAXEVAL_REACHED)"
      ]
     },
     "execution_count": 29,
     "metadata": {},
     "output_type": "execute_result"
    }
   ],
   "source": [
    "opt = Opt(:GN_CRS2_LM, 4)\n",
    "lower_bounds!(opt,[0.0,0.0,0.0,0.0])\n",
    "upper_bounds!(opt,[10.0,10.0,10.0,10.0])\n",
    "min_objective!(opt, obj.cost_function2)\n",
    "xtol_rel!(opt,1e-12)\n",
    "maxeval!(opt, 20000)\n",
    "@time (minf,minx,ret) = NLopt.optimize(opt,glo_init)\n"
   ]
  },
  {
   "cell_type": "code",
   "execution_count": 30,
   "metadata": {},
   "outputs": [
    {
     "name": "stdout",
     "output_type": "stream",
     "text": [
      "107.029660 seconds (155.40 M allocations: 37.689 GiB, 3.14% gc time)\n"
     ]
    },
    {
     "data": {
      "text/plain": [
       "(22220.35780101357, [2.09942966895605, 5.447657737304893, 2.6120866708130075, 0.9315662121044144], :MAXEVAL_REACHED)"
      ]
     },
     "execution_count": 30,
     "metadata": {},
     "output_type": "execute_result"
    }
   ],
   "source": [
    "opt = Opt(:GN_ISRES, 4)\n",
    "lower_bounds!(opt,[0.0,0.0,0.0,0.0])\n",
    "upper_bounds!(opt,[10.0,10.0,10.0,10.0])\n",
    "min_objective!(opt, obj.cost_function2)\n",
    "xtol_rel!(opt,1e-12)\n",
    "maxeval!(opt, 50000)\n",
    "@time (minf,minx,ret) = NLopt.optimize(opt,glo_init)"
   ]
  },
  {
   "cell_type": "code",
   "execution_count": 31,
   "metadata": {},
   "outputs": [
    {
     "name": "stdout",
     "output_type": "stream",
     "text": [
      " 42.485574 seconds (62.16 M allocations: 15.076 GiB, 3.05% gc time)\n"
     ]
    },
    {
     "data": {
      "text/plain": [
       "(9904.458423146938, [0.6839782726024053, 0.5435829812350074, 7.694706346996951, 3.920775726310541], :MAXEVAL_REACHED)"
      ]
     },
     "execution_count": 31,
     "metadata": {},
     "output_type": "execute_result"
    }
   ],
   "source": [
    "opt = Opt(:GN_ESCH, 4)\n",
    "lower_bounds!(opt,[0.0,0.0,0.0,0.0])\n",
    "upper_bounds!(opt,[10.0,10.0,10.0,10.0])\n",
    "min_objective!(opt, obj.cost_function2)\n",
    "xtol_rel!(opt,1e-12)\n",
    "maxeval!(opt, 20000)\n",
    "@time (minf,minx,ret) = NLopt.optimize(opt,glo_init)"
   ]
  },
  {
   "cell_type": "code",
   "execution_count": 32,
   "metadata": {},
   "outputs": [
    {
     "name": "stdout",
     "output_type": "stream",
     "text": [
      "  1.272690 seconds (1.84 M allocations: 456.178 MiB, 3.28% gc time)\n"
     ]
    },
    {
     "data": {
      "text/plain": [
       "(1.2706863918599434e-14, [1.4999999994887927, 1.000000000235084, 3.00000000176495, 1.0000000007536436], :SUCCESS)"
      ]
     },
     "execution_count": 32,
     "metadata": {},
     "output_type": "execute_result"
    }
   ],
   "source": [
    "opt = Opt(:LN_BOBYQA, 4)\n",
    "lower_bounds!(opt,[0.0,0.0,0.0,0.0])\n",
    "upper_bounds!(opt,[5.0,5.0,5.0,5.0])\n",
    "min_objective!(opt, obj.cost_function2)\n",
    "xtol_rel!(opt,1e-12)\n",
    "maxeval!(opt, 10000)\n",
    "@time (minf,minx,ret) = NLopt.optimize(opt,loc_init)"
   ]
  },
  {
   "cell_type": "code",
   "execution_count": 33,
   "metadata": {},
   "outputs": [
    {
     "name": "stdout",
     "output_type": "stream",
     "text": [
      "  1.024875 seconds (1.48 M allocations: 367.412 MiB, 3.24% gc time)\n"
     ]
    },
    {
     "data": {
      "text/plain": [
       "(1.7650193766385424e-14, [1.499999999818285, 1.0000000007450542, 3.000000000845967, 1.000000000383562], :XTOL_REACHED)"
      ]
     },
     "execution_count": 33,
     "metadata": {},
     "output_type": "execute_result"
    }
   ],
   "source": [
    "opt = Opt(:LN_NELDERMEAD, 4)\n",
    "lower_bounds!(opt,[0.0,0.0,0.0,0.0])\n",
    "upper_bounds!(opt,[5.0,5.0,5.0,5.0])\n",
    "min_objective!(opt, obj.cost_function2)\n",
    "xtol_rel!(opt,1e-9)\n",
    "maxeval!(opt, 10000)\n",
    "@time (minf,minx,ret) = NLopt.optimize(opt,loc_init)"
   ]
  },
  {
   "cell_type": "code",
   "execution_count": 34,
   "metadata": {},
   "outputs": [
    {
     "name": "stderr",
     "output_type": "stream",
     "text": [
      "┌ Warning: Interrupted. Larger maxiters is needed.\n",
      "└ @ DiffEqBase /home/seneryilmaz/.julia/packages/DiffEqBase/cwiDm/src/integrator_interface.jl:319\n",
      "┌ Warning: dt <= dtmin. Aborting. There is either an error in your model specification or the true solution is unstable.\n",
      "└ @ DiffEqBase /home/seneryilmaz/.julia/packages/DiffEqBase/cwiDm/src/integrator_interface.jl:333\n",
      "┌ Warning: Interrupted. Larger maxiters is needed.\n",
      "└ @ DiffEqBase /home/seneryilmaz/.julia/packages/DiffEqBase/cwiDm/src/integrator_interface.jl:319\n",
      "┌ Warning: Interrupted. Larger maxiters is needed.\n",
      "└ @ DiffEqBase /home/seneryilmaz/.julia/packages/DiffEqBase/cwiDm/src/integrator_interface.jl:319\n",
      "┌ Warning: Interrupted. Larger maxiters is needed.\n",
      "└ @ DiffEqBase /home/seneryilmaz/.julia/packages/DiffEqBase/cwiDm/src/integrator_interface.jl:319\n"
     ]
    },
    {
     "name": "stdout",
     "output_type": "stream",
     "text": [
      "  3.068603 seconds (1.98 M allocations: 493.023 MiB, 1.40% gc time)\n"
     ]
    },
    {
     "data": {
      "text/plain": [
       "(21569.713608932856, [3.259711731509334, 2.7238409757250213, 0.8581704877145914, 0.40449683990312385], :XTOL_REACHED)"
      ]
     },
     "execution_count": 34,
     "metadata": {},
     "output_type": "execute_result"
    }
   ],
   "source": [
    "opt = Opt(:LD_SLSQP, 4)\n",
    "lower_bounds!(opt,[0.0,0.0,0.0,0.0])\n",
    "upper_bounds!(opt,[5.0,5.0,5.0,5.0])\n",
    "min_objective!(opt, obj.cost_function2)\n",
    "xtol_rel!(opt,1e-12)\n",
    "maxeval!(opt, 10000)\n",
    "@time (minf,minx,ret) = NLopt.optimize(opt,loc_init)"
   ]
  },
  {
   "cell_type": "markdown",
   "metadata": {},
   "source": [
    "### Parameter estimation on the longer sample proves to be extremely challenging for some of the global optimizers. A few give the accurate values, BlacBoxOptim also performs quite well while others seem to struggle with accuracy a lot.\n",
    "## Conclusion\n",
    "In general we observe that lower tolerance lead to higher accuracy but too low tolerance could affect the convergance time drastically. Also fitting a shorter timespan seems to be easier in comparision (quite intutively). NLOpt methods seem to give great accuracy in the shorter problem with a lot of the algorithms giving 0 fitness, BBO performs very well on it with marginal change with tol values. In case of global optimization of the longer problem there is some difference in the perfomance amongst the algorithms with ```LD_SLSQP``` ```GN_ESCH``` ````GN_ISRES```` ````GN_ORIG_DIRECT_L```` performing among the worse, BBO also gives a bit high fitness in comparison. QuadDIRECT gives accurate results in the case of the shorter problem but doesn't perform very well in the longer problem case."
   ]
  },
  {
   "cell_type": "code",
   "execution_count": null,
   "metadata": {},
   "outputs": [],
   "source": [
    "\n"
   ]
  }
 ],
 "metadata": {
  "kernelspec": {
   "display_name": "Julia 1.3.0",
   "language": "julia",
   "name": "julia-1.3"
  },
  "language_info": {
   "file_extension": ".jl",
   "mimetype": "application/julia",
   "name": "julia",
   "version": "1.3.0"
  }
 },
 "nbformat": 4,
 "nbformat_minor": 2
}
