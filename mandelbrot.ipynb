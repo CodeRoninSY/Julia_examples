{
 "cells": [
  {
   "cell_type": "code",
   "execution_count": null,
   "metadata": {},
   "outputs": [
    {
     "name": "stderr",
     "output_type": "stream",
     "text": [
      "┌ Info: Precompiling Images [916415d5-f1e6-5110-898d-aaa5f9f070e0]\n",
      "└ @ Base loading.jl:1273\n"
     ]
    }
   ],
   "source": [
    "# import Pkg\n",
    "# Pkg.add(\"Images\")\n",
    "using Images"
   ]
  },
  {
   "cell_type": "code",
   "execution_count": 3,
   "metadata": {},
   "outputs": [
    {
     "data": {
      "text/plain": [
       "hsv2rgb (generic function with 1 method)"
      ]
     },
     "execution_count": 3,
     "metadata": {},
     "output_type": "execute_result"
    }
   ],
   "source": [
    "@inline function hsv2rgb(h, s, v)\n",
    "    c = v * s\n",
    "    x = c * (1 - abs(((h/60) % 2) - 1))\n",
    "    m = v - c\n",
    "\n",
    "    r,g,b =\n",
    "        if h < 60\n",
    "            (c, x, 0)\n",
    "        elseif h < 120\n",
    "            (x, c, 0)\n",
    "        elseif h < 180\n",
    "            (0, c, x)\n",
    "        elseif h < 240\n",
    "            (0, x, c)\n",
    "        elseif h < 300\n",
    "            (x, 0, c)\n",
    "        else\n",
    "            (c, 0, x)\n",
    "        end\n",
    "\n",
    "    (r + m), (b + m), (g + m)\n",
    "end"
   ]
  },
  {
   "cell_type": "code",
   "execution_count": 4,
   "metadata": {},
   "outputs": [
    {
     "data": {
      "text/plain": [
       "mandelbrot (generic function with 1 method)"
      ]
     },
     "execution_count": 4,
     "metadata": {},
     "output_type": "execute_result"
    }
   ],
   "source": [
    "function mandelbrot()\n",
    "\n",
    "    w, h = 1000, 1000\n",
    "\n",
    "    zoom  = 0.5\n",
    "    moveX = 0\n",
    "    moveY = 0\n",
    "\n",
    "    img = Array(RGB{Float64}, h, w)\n",
    "    maxIter = 30\n",
    "\n",
    "    for x in 1:w\n",
    "        for y in 1:h\n",
    "            i = maxIter\n",
    "            c = Complex(\n",
    "                (2*x - w) / (w * zoom) + moveX,\n",
    "                (2*y - h) / (h * zoom) + moveY\n",
    "            )\n",
    "            z = c\n",
    "            while abs(z) < 2 && (i -= 1) > 0\n",
    "                z = z^2 + c\n",
    "            end\n",
    "            r,g,b = hsv2rgb(i / maxIter * 360, 1, i / maxIter)\n",
    "            img[y,x] = RGB{Float64}(r, g, b)\n",
    "        end\n",
    "    end\n",
    "\n",
    "    save(\"mandelbrot_set.png\", img)\n",
    "end"
   ]
  },
  {
   "cell_type": "code",
   "execution_count": 5,
   "metadata": {},
   "outputs": [
    {
     "ename": "MethodError",
     "evalue": "MethodError: no method matching Array(::Type{RGB{Float64}}, ::Int64, ::Int64)\nClosest candidates are:\n  Array(!Matched::LinearAlgebra.UniformScaling, ::Integer, ::Integer) at /buildworker/worker/package_linux64/build/usr/share/julia/stdlib/v1.3/LinearAlgebra/src/uniformscaling.jl:397",
     "output_type": "error",
     "traceback": [
      "MethodError: no method matching Array(::Type{RGB{Float64}}, ::Int64, ::Int64)\nClosest candidates are:\n  Array(!Matched::LinearAlgebra.UniformScaling, ::Integer, ::Integer) at /buildworker/worker/package_linux64/build/usr/share/julia/stdlib/v1.3/LinearAlgebra/src/uniformscaling.jl:397",
      "",
      "Stacktrace:",
      " [1] mandelbrot() at ./In[4]:9",
      " [2] top-level scope at In[5]:1"
     ]
    }
   ],
   "source": [
    "mandelbrot()"
   ]
  },
  {
   "cell_type": "code",
   "execution_count": null,
   "metadata": {},
   "outputs": [],
   "source": []
  }
 ],
 "metadata": {
  "kernelspec": {
   "display_name": "Julia 1.3.0",
   "language": "julia",
   "name": "julia-1.3"
  },
  "language_info": {
   "file_extension": ".jl",
   "mimetype": "application/julia",
   "name": "julia",
   "version": "1.3.0"
  }
 },
 "nbformat": 4,
 "nbformat_minor": 2
}
