{
 "cells": [
  {
   "cell_type": "markdown",
   "metadata": {},
   "source": [
    "# Optimization-based ODE Inference Example"
   ]
  },
  {
   "cell_type": "markdown",
   "metadata": {},
   "source": [
    "## Simple Local Optimization\n",
    "https://docs.juliadiffeq.org/dev/analysis/parameter_estimation/#Simple-Local-Optimization-1"
   ]
  },
  {
   "cell_type": "code",
   "execution_count": 5,
   "metadata": {},
   "outputs": [
    {
     "name": "stderr",
     "output_type": "stream",
     "text": [
      "WARNING: using JuMP.solve in module Main conflicts with an existing identifier.\n"
     ]
    },
    {
     "data": {
      "text/plain": [
       "Plots.GRBackend()"
      ]
     },
     "execution_count": 5,
     "metadata": {},
     "output_type": "execute_result"
    }
   ],
   "source": [
    "using OrdinaryDiffEq, DifferentialEquations, DiffEqParamEstim\n",
    "using JuMP, NLopt\n",
    "using Plots\n",
    "gr()"
   ]
  },
  {
   "cell_type": "code",
   "execution_count": 6,
   "metadata": {},
   "outputs": [
    {
     "data": {
      "text/plain": [
       "\u001b[36mODEProblem\u001b[0m with uType \u001b[36mArray{Float64,1}\u001b[0m and tType \u001b[36mFloat64\u001b[0m. In-place: \u001b[36mtrue\u001b[0m\n",
       "timespan: (0.0, 10.0)\n",
       "u0: [1.0, 1.0]"
      ]
     },
     "execution_count": 6,
     "metadata": {},
     "output_type": "execute_result"
    }
   ],
   "source": [
    "function f(du,u,p,t)\n",
    "  du[1] = dx = p[1]*u[1] - u[1]*u[2]\n",
    "  du[2] = dy = -3*u[2] + u[1]*u[2]\n",
    "end\n",
    "\n",
    "u0 = [1.0;1.0]\n",
    "tspan = (0.0,10.0)\n",
    "p = [1.5]\n",
    "prob = ODEProblem(f,u0,tspan,p)"
   ]
  },
  {
   "cell_type": "code",
   "execution_count": 7,
   "metadata": {},
   "outputs": [
    {
     "data": {
      "text/plain": [
       "2×200 Array{Float64,2}:\n",
       " 0.992466  1.03257   1.06868   1.10157   …  0.964115  1.0094   1.03166 \n",
       " 0.996542  0.897328  0.819717  0.741255     1.11431   1.01208  0.900618"
      ]
     },
     "execution_count": 7,
     "metadata": {},
     "output_type": "execute_result"
    }
   ],
   "source": [
    "sol = solve(prob,Tsit5())\n",
    "t = collect(range(0,stop=10,length=200))\n",
    "using RecursiveArrayTools # for VectorOfArray\n",
    "randomized = VectorOfArray([(sol(t[i]) + .01randn(2)) for i in 1:length(t)])\n",
    "data = convert(Array,randomized)"
   ]
  },
  {
   "cell_type": "code",
   "execution_count": 8,
   "metadata": {},
   "outputs": [
    {
     "data": {
      "text/plain": [
       "g (generic function with 1 method)"
      ]
     },
     "execution_count": 8,
     "metadata": {},
     "output_type": "execute_result"
    }
   ],
   "source": [
    "function g(du,u,p,t)\n",
    "  σ,ρ,β = p\n",
    "  x,y,z = u\n",
    "  du[1] = dx = σ*(y-x)\n",
    "  du[2] = dy = x*(ρ-z) - y\n",
    "  du[3] = dz = x*y - β*z\n",
    "end"
   ]
  },
  {
   "cell_type": "code",
   "execution_count": 9,
   "metadata": {},
   "outputs": [
    {
     "data": {
      "text/plain": [
       "3×101 Array{Float64,2}:\n",
       " 1.0  0.917924   0.867919    0.84536     …  -9.4328   -9.4199   -9.3954 \n",
       " 0.0  0.26634    0.511741    0.744654       -9.36254  -9.23248  -9.09342\n",
       " 0.0  0.0012639  0.00465545  0.00983587     28.3322   28.4516   28.5537 "
      ]
     },
     "execution_count": 9,
     "metadata": {},
     "output_type": "execute_result"
    }
   ],
   "source": [
    "u0 = [1.0;0.0;0.0]\n",
    "t = 0.0:0.01:1.0\n",
    "tspan = (0.0,1.0)\n",
    "model_ode(p_) = ODEProblem(g, u0, tspan,p_)\n",
    "solve_model(mp_) = OrdinaryDiffEq.solve(model_ode(mp_), Tsit5(),saveat=0.01)\n",
    "mock_data = Array(solve_model([10.0,28.0,8/3]))"
   ]
  },
  {
   "cell_type": "code",
   "execution_count": 10,
   "metadata": {},
   "outputs": [
    {
     "data": {
      "text/plain": [
       "loss_objective (generic function with 1 method)"
      ]
     },
     "execution_count": 10,
     "metadata": {},
     "output_type": "execute_result"
    }
   ],
   "source": [
    "loss_objective(mp_, dat) = build_loss_objective(\n",
    "    model_ode(mp_), Tsit5(), L2Loss(t,dat))"
   ]
  },
  {
   "cell_type": "code",
   "execution_count": 12,
   "metadata": {},
   "outputs": [
    {
     "ename": "UndefVarError",
     "evalue": "UndefVarError: setsolver not defined",
     "output_type": "error",
     "traceback": [
      "UndefVarError: setsolver not defined",
      "",
      "Stacktrace:",
      " [1] getproperty(::Module, ::Symbol) at ./Base.jl:13",
      " [2] top-level scope at In[12]:10"
     ]
    }
   ],
   "source": [
    "juobj(args...) = loss_objective(args, mock_data)(args)\n",
    "jumodel = Model()\n",
    "JuMP.register(jumodel, :juobj, 3, juobj, autodiff=true)\n",
    "@variables jumodel begin\n",
    "    σ,(start=8)\n",
    "    ρ,(start=25.0)\n",
    "    β,(start=10/3)\n",
    "end\n",
    "@NLobjective(jumodel, Min, juobj(σ, ρ, β))\n",
    "setsolver(jumodel, NLoptSolver(algorithm=:LD_MMA))"
   ]
  },
  {
   "cell_type": "code",
   "execution_count": null,
   "metadata": {},
   "outputs": [],
   "source": []
  }
 ],
 "metadata": {
  "kernelspec": {
   "display_name": "Julia 1.3.0",
   "language": "julia",
   "name": "julia-1.3"
  },
  "language_info": {
   "file_extension": ".jl",
   "mimetype": "application/julia",
   "name": "julia",
   "version": "1.3.0"
  }
 },
 "nbformat": 4,
 "nbformat_minor": 2
}
