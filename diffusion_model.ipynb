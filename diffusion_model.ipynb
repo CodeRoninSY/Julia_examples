{
 "cells": [
  {
   "cell_type": "markdown",
   "metadata": {},
   "source": [
    "# Diffusion Model\n",
    "https://benchmarks.juliadiffeq.org/html/Jumps/Diffusion_CTRW.html\n"
   ]
  },
  {
   "cell_type": "code",
   "execution_count": 1,
   "metadata": {},
   "outputs": [
    {
     "name": "stderr",
     "output_type": "stream",
     "text": [
      "┌ Info: Precompiling DiffEqBiological [eb300fae-53e8-50a0-950c-e21f52c2b7e0]\n",
      "└ @ Base loading.jl:1273\n"
     ]
    },
    {
     "data": {
      "text/plain": [
       ":png"
      ]
     },
     "execution_count": 1,
     "metadata": {},
     "output_type": "execute_result"
    }
   ],
   "source": [
    "using DiffEqBase, DiffEqBiological, DiffEqJump, Statistics, DataFrames\n",
    "using Plots\n",
    "gr()\n",
    "fmt = :png"
   ]
  },
  {
   "cell_type": "markdown",
   "metadata": {},
   "source": [
    "## Model and example solutions\n",
    "Here we implement a 1D continuous time random walk approximation of diffusion for N lattice sites on [0,1], with reflecting boundary conditions at x=0 and x=1."
   ]
  },
  {
   "cell_type": "code",
   "execution_count": 2,
   "metadata": {},
   "outputs": [
    {
     "data": {
      "text/plain": [
       "0.01"
      ]
     },
     "execution_count": 2,
     "metadata": {},
     "output_type": "execute_result"
    }
   ],
   "source": [
    "N = 256\n",
    "h = 1 / N\n",
    "rn = @empty_reaction_network\n",
    "function getDiffNetwork!(rn,N)    \n",
    "    for i = 1:N\n",
    "        addspecies!(rn, Symbol(:u, i))\n",
    "    end\n",
    "    addparam!(rn, :β)\n",
    "    for i = 1:N\n",
    "        (i < N) && addreaction!(rn, :β, (Symbol(:u,i)=>1,), (Symbol(:u,i+1)=>1,))\n",
    "        (i > 1) && addreaction!(rn, :β, (Symbol(:u,i)=>1,), (Symbol(:u,i-1)=>1,))\n",
    "    end\n",
    "    rn\n",
    "end\n",
    "getDiffNetwork!(rn,N)\n",
    "addjumps!(rn, build_regular_jumps=false, minimal_jumps=true)\n",
    "rnpar = [1/(h*h)]\n",
    "u0 = 10*ones(Int64, N)\n",
    "tf = .01"
   ]
  },
  {
   "cell_type": "code",
   "execution_count": 10,
   "metadata": {},
   "outputs": [
    {
     "name": "stdout",
     "output_type": "stream",
     "text": [
      "Benchmarking method: Direct()\n",
      "Benchmarking method: DirectFW()\n",
      "Benchmarking method: SortingDirect()\n",
      "Benchmarking method: NRM()\n",
      "Benchmarking method: DirectCR()\n",
      "Benchmarking method: RSSA()\n"
     ]
    }
   ],
   "source": [
    "methods = (Direct(),DirectFW(),SortingDirect(),NRM(),DirectCR(),RSSA())\n",
    "shortlabels = [string(leg)[1:end-2] for leg in methods]\n",
    "prob    = prob = DiscreteProblem(u0, (0.0, tf), rnpar)\n",
    "ploth   = plot(reuse=false)\n",
    "for (i,method) in enumerate(methods)\n",
    "    println(\"Benchmarking method: \", method)\n",
    "    jump_prob = JumpProblem(prob, method, rn, save_positions=(false,false))\n",
    "    sol = solve(jump_prob, SSAStepper(), saveat=tf/1000.)\n",
    "    plot!(ploth,sol.t,sol[Int(N//2),:],label=shortlabels[i], format=fmt)\n",
    "end"
   ]
  },
  {
   "cell_type": "code",
   "execution_count": 11,
   "metadata": {},
   "outputs": [
    {
     "data": {
      "text/plain": [
       "6-element Array{String,1}:\n",
       " \"Direct\"       \n",
       " \"DirectFW\"     \n",
       " \"SortingDirect\"\n",
       " \"NRM\"          \n",
       " \"DirectCR\"     \n",
       " \"RSSA\"         "
      ]
     },
     "execution_count": 11,
     "metadata": {},
     "output_type": "execute_result"
    }
   ],
   "source": [
    "plot!(ploth, \n",
    "    title=\"Population at middle lattice site\", xlabel=\"time\",format=fmt)"
   ]
  },
  {
   "cell_type": "markdown",
   "metadata": {},
   "source": [
    "## Benchmarking performance of the methods"
   ]
  },
  {
   "cell_type": "code",
   "execution_count": 12,
   "metadata": {},
   "outputs": [
    {
     "data": {
      "text/plain": [
       "run_benchmark! (generic function with 1 method)"
      ]
     },
     "execution_count": 12,
     "metadata": {},
     "output_type": "execute_result"
    }
   ],
   "source": [
    "function run_benchmark!(t, jump_prob, stepper)\n",
    "    sol = solve(jump_prob, stepper)\n",
    "    @inbounds for i in 1:length(t)\n",
    "        t[i] = @elapsed (sol = solve(jump_prob, stepper))\n",
    "    end\n",
    "end"
   ]
  },
  {
   "cell_type": "code",
   "execution_count": 13,
   "metadata": {},
   "outputs": [],
   "source": [
    "nsims = 50\n",
    "benchmarks = Vector{Vector{Float64}}()\n",
    "for method in methods\n",
    "    jump_prob = JumpProblem(prob, method, rn, save_positions=(false,false))\n",
    "    stepper = SSAStepper()\n",
    "    t = Vector{Float64}(undef,nsims)\n",
    "    run_benchmark!(t, jump_prob, stepper)\n",
    "    push!(benchmarks, t)\n",
    "end"
   ]
  },
  {
   "cell_type": "code",
   "execution_count": 14,
   "metadata": {},
   "outputs": [
    {
     "data": {
      "text/html": [
       "<table class=\"data-frame\"><thead><tr><th></th><th>names</th><th>medtimes</th><th>relmedtimes</th><th>avgtimes</th><th>std</th><th>cv</th></tr><tr><th></th><th>String</th><th>Float64</th><th>Float64</th><th>Float64</th><th>Float64</th><th>Float64</th></tr></thead><tbody><p>6 rows × 6 columns</p><tr><th>1</th><td>Direct</td><td>5.86907</td><td>1.0</td><td>5.88878</td><td>0.0783732</td><td>0.0133089</td></tr><tr><th>2</th><td>DirectFW</td><td>6.26767</td><td>1.06792</td><td>6.29392</td><td>0.0842559</td><td>0.0133869</td></tr><tr><th>3</th><td>SortingDirect</td><td>1.14298</td><td>0.194747</td><td>1.14359</td><td>0.0082506</td><td>0.00721466</td></tr><tr><th>4</th><td>NRM</td><td>0.537558</td><td>0.0915917</td><td>0.539565</td><td>0.013425</td><td>0.0248812</td></tr><tr><th>5</th><td>DirectCR</td><td>0.459554</td><td>0.078301</td><td>0.467227</td><td>0.0257681</td><td>0.0551512</td></tr><tr><th>6</th><td>RSSA</td><td>1.56101</td><td>0.265973</td><td>1.56723</td><td>0.0260478</td><td>0.0166203</td></tr></tbody></table>"
      ],
      "text/latex": [
       "\\begin{tabular}{r|cccccc}\n",
       "\t& names & medtimes & relmedtimes & avgtimes & std & cv\\\\\n",
       "\t\\hline\n",
       "\t& String & Float64 & Float64 & Float64 & Float64 & Float64\\\\\n",
       "\t\\hline\n",
       "\t1 & Direct & 5.86907 & 1.0 & 5.88878 & 0.0783732 & 0.0133089 \\\\\n",
       "\t2 & DirectFW & 6.26767 & 1.06792 & 6.29392 & 0.0842559 & 0.0133869 \\\\\n",
       "\t3 & SortingDirect & 1.14298 & 0.194747 & 1.14359 & 0.0082506 & 0.00721466 \\\\\n",
       "\t4 & NRM & 0.537558 & 0.0915917 & 0.539565 & 0.013425 & 0.0248812 \\\\\n",
       "\t5 & DirectCR & 0.459554 & 0.078301 & 0.467227 & 0.0257681 & 0.0551512 \\\\\n",
       "\t6 & RSSA & 1.56101 & 0.265973 & 1.56723 & 0.0260478 & 0.0166203 \\\\\n",
       "\\end{tabular}\n"
      ],
      "text/plain": [
       "6×6 DataFrame. Omitted printing of 1 columns\n",
       "│ Row │ names         │ medtimes │ relmedtimes │ avgtimes │ std       │\n",
       "│     │ \u001b[90mString\u001b[39m        │ \u001b[90mFloat64\u001b[39m  │ \u001b[90mFloat64\u001b[39m     │ \u001b[90mFloat64\u001b[39m  │ \u001b[90mFloat64\u001b[39m   │\n",
       "├─────┼───────────────┼──────────┼─────────────┼──────────┼───────────┤\n",
       "│ 1   │ Direct        │ 5.86907  │ 1.0         │ 5.88878  │ 0.0783732 │\n",
       "│ 2   │ DirectFW      │ 6.26767  │ 1.06792     │ 6.29392  │ 0.0842559 │\n",
       "│ 3   │ SortingDirect │ 1.14298  │ 0.194747    │ 1.14359  │ 0.0082506 │\n",
       "│ 4   │ NRM           │ 0.537558 │ 0.0915917   │ 0.539565 │ 0.013425  │\n",
       "│ 5   │ DirectCR      │ 0.459554 │ 0.078301    │ 0.467227 │ 0.0257681 │\n",
       "│ 6   │ RSSA          │ 1.56101  │ 0.265973    │ 1.56723  │ 0.0260478 │"
      ]
     },
     "execution_count": 14,
     "metadata": {},
     "output_type": "execute_result"
    }
   ],
   "source": [
    "medtimes = Vector{Float64}(undef,length(methods))\n",
    "stdtimes = Vector{Float64}(undef,length(methods))\n",
    "avgtimes = Vector{Float64}(undef,length(methods))\n",
    "for i in 1:length(methods)\n",
    "    medtimes[i] = median(benchmarks[i])\n",
    "    avgtimes[i] = mean(benchmarks[i])\n",
    "    stdtimes[i] = std(benchmarks[i])\n",
    "end\n",
    "\n",
    "df = DataFrame(names=shortlabels,medtimes=medtimes,\n",
    "    relmedtimes=(medtimes/medtimes[1]),\n",
    "                avgtimes=avgtimes, std=stdtimes, cv=stdtimes./avgtimes)"
   ]
  },
  {
   "cell_type": "markdown",
   "metadata": {},
   "source": [
    "## Plotting"
   ]
  },
  {
   "cell_type": "code",
   "execution_count": 16,
   "metadata": {},
   "outputs": [
    {
     "data": {
      "image/png": "[encoded data removed]"
     },
     "execution_count": 16,
     "metadata": {},
     "output_type": "execute_result"
    }
   ],
   "source": [
    "sa = [string(round(mt,digits=4),\"s\") for mt in df.medtimes]\n",
    "bar(df.names,df.relmedtimes,legend=:false, fmt=fmt)\n",
    "scatter!(df.names, .05 .+ df.relmedtimes, \n",
    "    markeralpha=0, series_annotations=sa, fmt=fmt)\n",
    "ylabel!(\"median relative to Direct\")\n",
    "title!(\"256 Site 1D Diffusion CTRW\")"
   ]
  },
  {
   "cell_type": "code",
   "execution_count": null,
   "metadata": {},
   "outputs": [],
   "source": []
  }
 ],
 "metadata": {
  "kernelspec": {
   "display_name": "Julia 1.3.0",
   "language": "julia",
   "name": "julia-1.3"
  },
  "language_info": {
   "file_extension": ".jl",
   "mimetype": "application/julia",
   "name": "julia",
   "version": "1.3.0"
  }
 },
 "nbformat": 4,
 "nbformat_minor": 2
}
