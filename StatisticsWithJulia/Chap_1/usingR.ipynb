{
 "cells": [
  {
   "cell_type": "markdown",
   "metadata": {},
   "source": [
    "# Using R from Julia\n",
    "\n",
    "Statistical method of ANOVA (Analysis of Variance)."
   ]
  },
  {
   "cell_type": "code",
   "execution_count": 1,
   "metadata": {},
   "outputs": [],
   "source": [
    "using CSV, DataFrames, RCall"
   ]
  },
  {
   "cell_type": "code",
   "execution_count": 2,
   "metadata": {
    "collapsed": true
   },
   "outputs": [
    {
     "data": {
      "text/plain": [
       "20-element Array{Float64,1}:\n",
       " 53.35674558144255 \n",
       " 53.45887516134873 \n",
       " 52.282838627926125\n",
       " 52.98746570643515 \n",
       " 51.993167774733486\n",
       " 53.373333606198   \n",
       " 55.75410538860477 \n",
       " 50.279496381439365\n",
       " 53.6359586914001  \n",
       " 53.517705831707495\n",
       " 53.70044994508253 \n",
       " 54.15592592604583 \n",
       " 53.55054914606446 \n",
       " 52.37319589109419 \n",
       " 53.4900750059897  \n",
       " 52.939458524079605\n",
       " 52.16761562743534 \n",
       " 50.87140009591033 \n",
       " 53.144919157924924\n",
       " 52.09084035473537 "
      ]
     },
     "execution_count": 2,
     "metadata": {},
     "output_type": "execute_result"
    }
   ],
   "source": [
    "data1 = CSV.read(\"../data/machine1.csv\", header=false)[:,1]"
   ]
  },
  {
   "cell_type": "code",
   "execution_count": 3,
   "metadata": {
    "collapsed": true
   },
   "outputs": [
    {
     "data": {
      "text/plain": [
       "18-element Array{Float64,1}:\n",
       " 48.232390109774904\n",
       " 52.27351779520738 \n",
       " 52.0720991700097  \n",
       " 51.88136380400122 \n",
       " 50.898600652112705\n",
       " 53.13910845160147 \n",
       " 50.88296218665962 \n",
       " 49.807257093374794\n",
       " 49.04791179434456 \n",
       " 50.91491625995569 \n",
       " 50.73578182751547 \n",
       " 47.6154076025163  \n",
       " 50.893171221589455\n",
       " 52.9559389575489  \n",
       " 51.90831273558151 \n",
       " 52.22159828531742 \n",
       " 51.60575820776536 \n",
       " 49.96704470938145 "
      ]
     },
     "execution_count": 3,
     "metadata": {},
     "output_type": "execute_result"
    }
   ],
   "source": [
    "data2 = CSV.read(\"../data/machine2.csv\", header=false)[:,1]"
   ]
  },
  {
   "cell_type": "code",
   "execution_count": 4,
   "metadata": {
    "collapsed": true
   },
   "outputs": [
    {
     "data": {
      "text/plain": [
       "18-element Array{Float64,1}:\n",
       " 48.23239011\n",
       " 52.41946369\n",
       " 52.65317452\n",
       " 51.94534987\n",
       " 51.82515337\n",
       " 53.89617752\n",
       " 51.66221936\n",
       " 50.48398609\n",
       " 49.92915962\n",
       " 51.36274088\n",
       " 51.49955282\n",
       " 48.44932865\n",
       " 51.30260914\n",
       " 53.79300458\n",
       " 52.14586136\n",
       " 52.3045681 \n",
       " 51.70942442\n",
       " 50.19259501"
      ]
     },
     "execution_count": 4,
     "metadata": {},
     "output_type": "execute_result"
    }
   ],
   "source": [
    "data3 = CSV.read(\"../data/machine3.csv\", header=false)[:,1]"
   ]
  },
  {
   "cell_type": "code",
   "execution_count": 6,
   "metadata": {},
   "outputs": [
    {
     "data": {
      "text/plain": [
       "R_ANOVA (generic function with 1 method)"
      ]
     },
     "execution_count": 6,
     "metadata": {},
     "output_type": "execute_result"
    }
   ],
   "source": [
    "function R_ANOVA(allData)\n",
    "\n",
    "    data = vcat([ [x fill(i, length(x))] for (i, x) in \n",
    "                enumerate(allData) ]...)\n",
    "    df = DataFrame(data, [:Diameter, :MachNo])\n",
    "    @rput df\n",
    "\n",
    "    R\"\"\"\n",
    "    df$MachNo <- as.factor(df$MachNo)\n",
    "    anova <- summary(aov( Diameter ~ MachNo, data=df))\n",
    "    fVal <- anova[[1]][\"F value\"][[1]][1]\n",
    "    pVal <- anova[[1]][\"Pr(>F)\"][[1]][1]\n",
    "    \"\"\"\n",
    "    println(\"R ANOVA f-value: \", @rget fVal)\n",
    "    println(\"R ANOVA p-value: \", @rget pVal)\n",
    "end"
   ]
  },
  {
   "cell_type": "code",
   "execution_count": 7,
   "metadata": {},
   "outputs": [
    {
     "name": "stdout",
     "output_type": "stream",
     "text": [
      "R ANOVA f-value: 10.516968568709022\n",
      "R ANOVA p-value: 0.0001423616881714023\n"
     ]
    }
   ],
   "source": [
    "R_ANOVA([data1, data2, data3])"
   ]
  },
  {
   "cell_type": "code",
   "execution_count": null,
   "metadata": {},
   "outputs": [],
   "source": []
  }
 ],
 "metadata": {
  "kernelspec": {
   "display_name": "Julia 1.3.0",
   "language": "julia",
   "name": "julia-1.3"
  },
  "language_info": {
   "file_extension": ".jl",
   "mimetype": "application/julia",
   "name": "julia",
   "version": "1.3.0"
  }
 },
 "nbformat": 4,
 "nbformat_minor": 2
}
