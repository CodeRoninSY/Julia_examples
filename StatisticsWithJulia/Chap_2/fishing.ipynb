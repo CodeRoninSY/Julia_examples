{
 "cells": [
  {
   "cell_type": "code",
   "execution_count": 6,
   "metadata": {},
   "outputs": [
    {
     "data": {
      "text/plain": [
       "Plots.PyPlotBackend()"
      ]
     },
     "execution_count": 6,
     "metadata": {},
     "output_type": "execute_result"
    }
   ],
   "source": [
    "using StatsBase, Plots\n",
    "pyplot()"
   ]
  },
  {
   "cell_type": "code",
   "execution_count": 7,
   "metadata": {},
   "outputs": [
    {
     "data": {
      "text/plain": [
       "proportionFished (generic function with 2 methods)"
      ]
     },
     "execution_count": 7,
     "metadata": {},
     "output_type": "execute_result"
    }
   ],
   "source": [
    "function proportionFished(gF,sF,n,N,withReplacement = false)\n",
    "    \"\"\" \n",
    "    gF: goldfish\n",
    "    sF: starfish\n",
    "    n: number of times catch a fish\n",
    "    N: total number of simulation runs\n",
    "    withReplacement: policy of whether throw back each caught fish\n",
    "    \"\"\"\n",
    "    function fishing()\n",
    "        fishInPond = [ones(Int64,gF); zeros(Int64,sF)]\n",
    "        fishCaught = Int64[]\n",
    "\n",
    "        for fish in 1:n\n",
    "            fished = rand(fishInPond)\n",
    "            push!(fishCaught,fished)\n",
    "            if withReplacement == false\n",
    "                deleteat!(fishInPond, findfirst(x->x==fished, fishInPond))\n",
    "            end\n",
    "        end\n",
    "        sum(fishCaught)\n",
    "    end\n",
    "\n",
    "    simulations = [fishing() for _ in 1:N]\n",
    "    proportions = counts(simulations,0:n)/N\n",
    "\n",
    "    if withReplacement\n",
    "        plot!(0:n, proportions, \n",
    "             line=:stem, marker=:circle, c=:blue, ms=6, msw=0,\n",
    "             label=\"With replacement\",\n",
    "             xlabel=\"n\",\n",
    "             ylims=(0, 0.6), ylabel=\"Probability\")\n",
    "    else\n",
    "        plot!(0:n, proportions, \n",
    "            line=:stem, marker=:xcross, c=:red, ms=6, msw=0,\n",
    "            label=\"Without replacement\")\n",
    "    end\n",
    "end"
   ]
  },
  {
   "cell_type": "code",
   "execution_count": 8,
   "metadata": {},
   "outputs": [
    {
     "data": {
      "text/plain": [
       "1000000"
      ]
     },
     "execution_count": 8,
     "metadata": {},
     "output_type": "execute_result"
    }
   ],
   "source": [
    "N = 10^6"
   ]
  },
  {
   "cell_type": "code",
   "execution_count": 15,
   "metadata": {},
   "outputs": [
    {
     "data": {
      "text/plain": [
       "(3, 4, 3)"
      ]
     },
     "execution_count": 15,
     "metadata": {},
     "output_type": "execute_result"
    }
   ],
   "source": [
    "goldFish, silverFish, n = 3, 4, 3"
   ]
  },
  {
   "cell_type": "code",
   "execution_count": 16,
   "metadata": {},
   "outputs": [
    {
     "data": {
      "image/png": "[encoded data removed]"
     },
     "execution_count": 16,
     "metadata": {},
     "output_type": "execute_result"
    }
   ],
   "source": [
    "plot()\n",
    "proportionFished(goldFish, silverFish, n, N)\n",
    "proportionFished(goldFish, silverFish, n, N, true)"
   ]
  },
  {
   "cell_type": "code",
   "execution_count": null,
   "metadata": {},
   "outputs": [],
   "source": []
  }
 ],
 "metadata": {
  "kernelspec": {
   "display_name": "Julia 1.3.0",
   "language": "julia",
   "name": "julia-1.3"
  },
  "language_info": {
   "file_extension": ".jl",
   "mimetype": "application/julia",
   "name": "julia",
   "version": "1.3.0"
  }
 },
 "nbformat": 4,
 "nbformat_minor": 2
}
