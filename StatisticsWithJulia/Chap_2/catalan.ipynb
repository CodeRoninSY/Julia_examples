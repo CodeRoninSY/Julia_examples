{
 "cells": [
  {
   "cell_type": "code",
   "execution_count": 1,
   "metadata": {},
   "outputs": [
    {
     "data": {
      "text/plain": [
       "Plots.PyPlotBackend()"
      ]
     },
     "execution_count": 1,
     "metadata": {},
     "output_type": "execute_result"
    }
   ],
   "source": [
    "using Random, Combinatorics, Plots, LaTeXStrings\n",
    "pyplot()"
   ]
  },
  {
   "cell_type": "code",
   "execution_count": 2,
   "metadata": {},
   "outputs": [
    {
     "data": {
      "text/plain": [
       "MersenneTwister(UInt32[0x0000000c], Random.DSFMT.DSFMT_state(Int32[589013436, 1072892337, 1395473285, 1073017187, -346481041, 1072887813, 23263411, 1072776800, -1379277159, 1073038715  …  -173461052, 1072708370, 859747322, 1072998707, -624312252, -2047062377, 1852138555, -1338826024, 382, 0]), [0.0, 0.0, 0.0, 0.0, 0.0, 0.0, 0.0, 0.0, 0.0, 0.0  …  0.0, 0.0, 0.0, 0.0, 0.0, 0.0, 0.0, 0.0, 0.0, 0.0], UInt128[0x00000000000000000000000000000000, 0x00000000000000000000000000000000, 0x00000000000000000000000000000000, 0x00000000000000000000000000000000, 0x00000000000000000000000000000000, 0x00000000000000000000000000000000, 0x00000000000000000000000000000000, 0x00000000000000000000000000000000, 0x00000000000000000000000000000000, 0x00000000000000000000000000000000  …  0x00000000000000000000000000000000, 0x00000000000000000000000000000000, 0x00000000000000000000000000000000, 0x00000000000000000000000000000000, 0x00000000000000000000000000000000, 0x00000000000000000000000000000000, 0x00000000000000000000000000000000, 0x00000000000000000000000000000000, 0x00000000000000000000000000000000, 0x00000000000000000000000000000000], 1002, 0)"
      ]
     },
     "execution_count": 2,
     "metadata": {},
     "output_type": "execute_result"
    }
   ],
   "source": [
    "Random.seed!(12)"
   ]
  },
  {
   "cell_type": "code",
   "execution_count": 23,
   "metadata": {},
   "outputs": [
    {
     "data": {
      "text/plain": [
       "(5, 100000)"
      ]
     },
     "execution_count": 23,
     "metadata": {},
     "output_type": "execute_result"
    }
   ],
   "source": [
    "n, N = 5, 10^5"
   ]
  },
  {
   "cell_type": "code",
   "execution_count": 24,
   "metadata": {},
   "outputs": [
    {
     "data": {
      "text/plain": [
       "isUpperLattice (generic function with 1 method)"
      ]
     },
     "execution_count": 24,
     "metadata": {},
     "output_type": "execute_result"
    }
   ],
   "source": [
    "function isUpperLattice(v)\n",
    "    for i in 1:Int(length(v)/2)\n",
    "        sum(v[1:2*i-1]) >= i ? continue : return false\n",
    "    end\n",
    "    return true\n",
    "end"
   ]
  },
  {
   "cell_type": "code",
   "execution_count": 25,
   "metadata": {},
   "outputs": [
    {
     "data": {
      "text/plain": [
       "252-element Array{Array{Int64,1},1}:\n",
       " [0, 0, 0, 0, 0, 1, 1, 1, 1, 1]\n",
       " [0, 0, 0, 0, 1, 0, 1, 1, 1, 1]\n",
       " [0, 0, 0, 0, 1, 1, 0, 1, 1, 1]\n",
       " [0, 0, 0, 0, 1, 1, 1, 0, 1, 1]\n",
       " [0, 0, 0, 0, 1, 1, 1, 1, 0, 1]\n",
       " [0, 0, 0, 0, 1, 1, 1, 1, 1, 0]\n",
       " [0, 0, 0, 1, 0, 0, 1, 1, 1, 1]\n",
       " [0, 0, 0, 1, 0, 1, 0, 1, 1, 1]\n",
       " [0, 0, 0, 1, 0, 1, 1, 0, 1, 1]\n",
       " [0, 0, 0, 1, 0, 1, 1, 1, 0, 1]\n",
       " [0, 0, 0, 1, 0, 1, 1, 1, 1, 0]\n",
       " [0, 0, 0, 1, 1, 0, 0, 1, 1, 1]\n",
       " [0, 0, 0, 1, 1, 0, 1, 0, 1, 1]\n",
       " ⋮                             \n",
       " [1, 1, 1, 0, 0, 1, 1, 0, 0, 0]\n",
       " [1, 1, 1, 0, 1, 0, 0, 0, 0, 1]\n",
       " [1, 1, 1, 0, 1, 0, 0, 0, 1, 0]\n",
       " [1, 1, 1, 0, 1, 0, 0, 1, 0, 0]\n",
       " [1, 1, 1, 0, 1, 0, 1, 0, 0, 0]\n",
       " [1, 1, 1, 0, 1, 1, 0, 0, 0, 0]\n",
       " [1, 1, 1, 1, 0, 0, 0, 0, 0, 1]\n",
       " [1, 1, 1, 1, 0, 0, 0, 0, 1, 0]\n",
       " [1, 1, 1, 1, 0, 0, 0, 1, 0, 0]\n",
       " [1, 1, 1, 1, 0, 0, 1, 0, 0, 0]\n",
       " [1, 1, 1, 1, 0, 1, 0, 0, 0, 0]\n",
       " [1, 1, 1, 1, 1, 0, 0, 0, 0, 0]"
      ]
     },
     "execution_count": 25,
     "metadata": {},
     "output_type": "execute_result"
    }
   ],
   "source": [
    "omega = unique(permutations([zeros(Int,n);ones(Int,n)]))"
   ]
  },
  {
   "cell_type": "code",
   "execution_count": 26,
   "metadata": {},
   "outputs": [
    {
     "data": {
      "text/plain": [
       "42-element Array{Array{Int64,1},1}:\n",
       " [1, 0, 1, 0, 1, 0, 1, 0, 1, 0]\n",
       " [1, 0, 1, 0, 1, 0, 1, 1, 0, 0]\n",
       " [1, 0, 1, 0, 1, 1, 0, 0, 1, 0]\n",
       " [1, 0, 1, 0, 1, 1, 0, 1, 0, 0]\n",
       " [1, 0, 1, 0, 1, 1, 1, 0, 0, 0]\n",
       " [1, 0, 1, 1, 0, 0, 1, 0, 1, 0]\n",
       " [1, 0, 1, 1, 0, 0, 1, 1, 0, 0]\n",
       " [1, 0, 1, 1, 0, 1, 0, 0, 1, 0]\n",
       " [1, 0, 1, 1, 0, 1, 0, 1, 0, 0]\n",
       " [1, 0, 1, 1, 0, 1, 1, 0, 0, 0]\n",
       " [1, 0, 1, 1, 1, 0, 0, 0, 1, 0]\n",
       " [1, 0, 1, 1, 1, 0, 0, 1, 0, 0]\n",
       " [1, 0, 1, 1, 1, 0, 1, 0, 0, 0]\n",
       " ⋮                             \n",
       " [1, 1, 1, 0, 0, 1, 0, 0, 1, 0]\n",
       " [1, 1, 1, 0, 0, 1, 0, 1, 0, 0]\n",
       " [1, 1, 1, 0, 0, 1, 1, 0, 0, 0]\n",
       " [1, 1, 1, 0, 1, 0, 0, 0, 1, 0]\n",
       " [1, 1, 1, 0, 1, 0, 0, 1, 0, 0]\n",
       " [1, 1, 1, 0, 1, 0, 1, 0, 0, 0]\n",
       " [1, 1, 1, 0, 1, 1, 0, 0, 0, 0]\n",
       " [1, 1, 1, 1, 0, 0, 0, 0, 1, 0]\n",
       " [1, 1, 1, 1, 0, 0, 0, 1, 0, 0]\n",
       " [1, 1, 1, 1, 0, 0, 1, 0, 0, 0]\n",
       " [1, 1, 1, 1, 0, 1, 0, 0, 0, 0]\n",
       " [1, 1, 1, 1, 1, 0, 0, 0, 0, 0]"
      ]
     },
     "execution_count": 26,
     "metadata": {},
     "output_type": "execute_result"
    }
   ],
   "source": [
    "A = omega[isUpperLattice.(omega)]"
   ]
  },
  {
   "cell_type": "code",
   "execution_count": 27,
   "metadata": {},
   "outputs": [
    {
     "data": {
      "text/plain": [
       "0.16666666666666666"
      ]
     },
     "execution_count": 27,
     "metadata": {},
     "output_type": "execute_result"
    }
   ],
   "source": [
    "pA_modelI = length(A)/length(omega)"
   ]
  },
  {
   "cell_type": "code",
   "execution_count": 28,
   "metadata": {},
   "outputs": [
    {
     "data": {
      "text/plain": [
       "randomWalkPath (generic function with 1 method)"
      ]
     },
     "execution_count": 28,
     "metadata": {},
     "output_type": "execute_result"
    }
   ],
   "source": [
    "function randomWalkPath(n)\n",
    "    x, y = 0, 0\n",
    "    path = []\n",
    "    while x<n && y<n\n",
    "       if rand()<0.5\n",
    "            x += 1\n",
    "            push!(path,0)\n",
    "        else\n",
    "            y += 1\n",
    "            push!(path,1)\n",
    "        end\n",
    "    end\n",
    "    append!(path, x<n ? zeros(Int64,n-x) : ones(Int64,n-y))\n",
    "    return path\n",
    "end"
   ]
  },
  {
   "cell_type": "code",
   "execution_count": 29,
   "metadata": {},
   "outputs": [
    {
     "data": {
      "text/plain": [
       "0.24775"
      ]
     },
     "execution_count": 29,
     "metadata": {},
     "output_type": "execute_result"
    }
   ],
   "source": [
    "pA_modelIIest = sum([isUpperLattice(randomWalkPath(n)) for _ in 1:N])/N"
   ]
  },
  {
   "cell_type": "code",
   "execution_count": 30,
   "metadata": {},
   "outputs": [
    {
     "name": "stdout",
     "output_type": "stream",
     "text": [
      "Model I: 0.16666666666666666\t Model II: 0.24775\n"
     ]
    }
   ],
   "source": [
    "println(\"Model I: \",pA_modelI, \"\\t Model II: \", pA_modelIIest)"
   ]
  },
  {
   "cell_type": "code",
   "execution_count": 31,
   "metadata": {},
   "outputs": [
    {
     "data": {
      "text/plain": [
       "plotPath (generic function with 1 method)"
      ]
     },
     "execution_count": 31,
     "metadata": {},
     "output_type": "execute_result"
    }
   ],
   "source": [
    "function plotPath(v,l,c)\n",
    "    x,y = 0,0\n",
    "    graphX, graphY = [x], [y]\n",
    "    for i in v\n",
    "        if i == 0\n",
    "            x += 1\n",
    "        else\n",
    "            y += 1\n",
    "        end\n",
    "        push!(graphX,x), push!(graphY,y)\n",
    "    end\n",
    "    plot!(graphX, graphY, \n",
    "            la=0.8, lw=2, label=l, c=c, ratio=:equal, legend=:topleft, \n",
    "            xlims=(0,n), ylims=(0,n), \n",
    "            xlabel=L\"East\\rightarrow\", ylabel=L\"North\\rightarrow\")\n",
    "end"
   ]
  },
  {
   "cell_type": "code",
   "execution_count": 32,
   "metadata": {},
   "outputs": [
    {
     "data": {
      "image/png": "[encoded data removed]"
     },
     "execution_count": 32,
     "metadata": {},
     "output_type": "execute_result"
    }
   ],
   "source": [
    "plot()\n",
    "plotPath(rand(A), \"Upper lattice path\", :blue)\n",
    "plotPath(rand(setdiff(omega,A)), \"Non-upper lattice path\", :red)\n",
    "plot!([0, n], [0,n], ls=:dash, c=:black, label=\"\")"
   ]
  },
  {
   "cell_type": "code",
   "execution_count": null,
   "metadata": {},
   "outputs": [],
   "source": []
  }
 ],
 "metadata": {
  "kernelspec": {
   "display_name": "Julia 1.3.0",
   "language": "julia",
   "name": "julia-1.3"
  },
  "language_info": {
   "file_extension": ".jl",
   "mimetype": "application/julia",
   "name": "julia",
   "version": "1.3.0"
  }
 },
 "nbformat": 4,
 "nbformat_minor": 2
}
