{
 "cells": [
  {
   "cell_type": "markdown",
   "metadata": {},
   "source": [
    "# Secretary with Envelopes\n",
    "\n",
    "![Image1](./ch2_secretary_001.png)\n",
    "![Image2](./ch2_secretary_002.png)"
   ]
  },
  {
   "cell_type": "code",
   "execution_count": 1,
   "metadata": {},
   "outputs": [],
   "source": [
    "using Random, StatsBase, Combinatorics"
   ]
  },
  {
   "cell_type": "code",
   "execution_count": 2,
   "metadata": {},
   "outputs": [
    {
     "data": {
      "text/plain": [
       "MersenneTwister(UInt32[0x00000001], Random.DSFMT.DSFMT_state(Int32[1749029653, 1072851681, 1610647787, 1072862326, 1841712345, 1073426746, -198061126, 1073322060, -156153802, 1073567984  …  1977574422, 1073209915, 278919868, 1072835605, 1290372147, 18858467, 1815133874, -1716870370, 382, 0]), [0.0, 0.0, 0.0, 0.0, 0.0, 0.0, 0.0, 0.0, 0.0, 0.0  …  0.0, 0.0, 0.0, 0.0, 0.0, 0.0, 0.0, 0.0, 0.0, 0.0], UInt128[0x00000000000000000000000000000000, 0x00000000000000000000000000000000, 0x00000000000000000000000000000000, 0x00000000000000000000000000000000, 0x00000000000000000000000000000000, 0x00000000000000000000000000000000, 0x00000000000000000000000000000000, 0x00000000000000000000000000000000, 0x00000000000000000000000000000000, 0x00000000000000000000000000000000  …  0x00000000000000000000000000000000, 0x00000000000000000000000000000000, 0x00000000000000000000000000000000, 0x00000000000000000000000000000000, 0x00000000000000000000000000000000, 0x00000000000000000000000000000000, 0x00000000000000000000000000000000, 0x00000000000000000000000000000000, 0x00000000000000000000000000000000, 0x00000000000000000000000000000000], 1002, 0)"
      ]
     },
     "execution_count": 2,
     "metadata": {},
     "output_type": "execute_result"
    }
   ],
   "source": [
    "Random.seed!(1)"
   ]
  },
  {
   "cell_type": "code",
   "execution_count": 3,
   "metadata": {},
   "outputs": [
    {
     "data": {
      "text/plain": [
       "bruteSetsProbabilityAllMiss (generic function with 1 method)"
      ]
     },
     "execution_count": 3,
     "metadata": {},
     "output_type": "execute_result"
    }
   ],
   "source": [
    "function bruteSetsProbabilityAllMiss(n)\n",
    "    omega = collect(permutations(1:n))\n",
    "    matchEvents = []\n",
    "    for i in 1:n\n",
    "        event = []\n",
    "        for p in omega\n",
    "            if p[i] == i\n",
    "                push!(event,p)\n",
    "            end\n",
    "        end\n",
    "        push!(matchEvents,event)\n",
    "    end\n",
    "    noMatch = setdiff(omega,union(matchEvents...))\n",
    "    return length(noMatch)/length(omega)\n",
    "end"
   ]
  },
  {
   "cell_type": "code",
   "execution_count": 4,
   "metadata": {},
   "outputs": [
    {
     "data": {
      "text/plain": [
       "formulaCalcAllMiss (generic function with 1 method)"
      ]
     },
     "execution_count": 4,
     "metadata": {},
     "output_type": "execute_result"
    }
   ],
   "source": [
    "formulaCalcAllMiss(n) = sum([(-1)^k/factorial(k) for k in 0:n])"
   ]
  },
  {
   "cell_type": "code",
   "execution_count": 5,
   "metadata": {},
   "outputs": [
    {
     "data": {
      "text/plain": [
       "mcAllMiss (generic function with 1 method)"
      ]
     },
     "execution_count": 5,
     "metadata": {},
     "output_type": "execute_result"
    }
   ],
   "source": [
    "function mcAllMiss(n,N)\n",
    "    function envelopeStuffer()\n",
    "        envelopes = Random.shuffle!(collect(1:n))\n",
    "        return sum([envelopes[i] == i for i in 1:n]) == 0\n",
    "    end\n",
    "    data = [envelopeStuffer() for _ in 1:N]\n",
    "    return sum(data)/N\n",
    "end"
   ]
  },
  {
   "cell_type": "code",
   "execution_count": 6,
   "metadata": {},
   "outputs": [
    {
     "data": {
      "text/plain": [
       "100000"
      ]
     },
     "execution_count": 6,
     "metadata": {},
     "output_type": "execute_result"
    }
   ],
   "source": [
    "N = 10^5"
   ]
  },
  {
   "cell_type": "code",
   "execution_count": 7,
   "metadata": {},
   "outputs": [
    {
     "name": "stdout",
     "output_type": "stream",
     "text": [
      "n\tBrute Force\tFormula\t\tMonte Carlo\tAsymptotic\n",
      "1\t0.0\t\t0.0\t\t0.0\t\t0.3679\n",
      "2\t0.5\t\t0.5\t\t0.4988\t\t0.3679\n",
      "3\t0.3333\t\t0.3333\t\t0.3346\t\t0.3679\n",
      "4\t0.375\t\t0.375\t\t0.3752\t\t0.3679\n",
      "5\t0.3667\t\t0.3667\t\t0.366\t\t0.3679\n",
      "6\t0.3681\t\t0.3681\t\t0.369\t\t0.3679\n"
     ]
    }
   ],
   "source": [
    "println(\"n\\tBrute Force\\tFormula\\t\\tMonte Carlo\\tAsymptotic\",)\n",
    "for n in 1:6\n",
    "    bruteForce = bruteSetsProbabilityAllMiss(n)\n",
    "    fromFormula = formulaCalcAllMiss(n)\n",
    "    fromMC = mcAllMiss(n,N)\n",
    "    println(n,\"\\t\",round(bruteForce,digits=4),\"\\t\\t\",\n",
    "        round(fromFormula,digits=4),\n",
    "    \"\\t\\t\",round(fromMC,digits=4),\"\\t\\t\",round(1/MathConstants.e,digits=4))\n",
    "end"
   ]
  },
  {
   "cell_type": "code",
   "execution_count": null,
   "metadata": {},
   "outputs": [],
   "source": []
  }
 ],
 "metadata": {
  "kernelspec": {
   "display_name": "Julia 1.3.0",
   "language": "julia",
   "name": "julia-1.3"
  },
  "language_info": {
   "file_extension": ".jl",
   "mimetype": "application/julia",
   "name": "julia",
   "version": "1.3.0"
  }
 },
 "nbformat": 4,
 "nbformat_minor": 2
}
